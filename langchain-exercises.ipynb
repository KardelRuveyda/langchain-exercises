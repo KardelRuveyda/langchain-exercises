{
  "cells": [
    {
      "cell_type": "markdown",
      "metadata": {
        "id": "view-in-github",
        "colab_type": "text"
      },
      "source": [
        "<a href=\"https://colab.research.google.com/github/KardelRuveyda/KardelRuveyda/blob/main/langchain_exercises.ipynb\" target=\"_parent\"><img src=\"https://colab.research.google.com/assets/colab-badge.svg\" alt=\"Open In Colab\"/></a>"
      ]
    },
    {
      "cell_type": "code",
      "source": [
        "!pip install -r requirements.txt"
      ],
      "metadata": {
        "colab": {
          "base_uri": "https://localhost:8080/"
        },
        "id": "Ix71Zb5HxPTB",
        "outputId": "27261285-5cf2-448e-c417-454bf22fd847"
      },
      "id": "Ix71Zb5HxPTB",
      "execution_count": 1,
      "outputs": [
        {
          "output_type": "stream",
          "name": "stdout",
          "text": [
            "Collecting langchain==0.1.13 (from -r requirements.txt (line 1))\n",
            "  Downloading langchain-0.1.13-py3-none-any.whl (810 kB)\n",
            "\u001b[2K     \u001b[90m━━━━━━━━━━━━━━━━━━━━━━━━━━━━━━━━━━━━━━━━\u001b[0m \u001b[32m810.5/810.5 kB\u001b[0m \u001b[31m6.8 MB/s\u001b[0m eta \u001b[36m0:00:00\u001b[0m\n",
            "\u001b[?25hCollecting langchain-core==0.1.33 (from -r requirements.txt (line 2))\n",
            "  Downloading langchain_core-0.1.33-py3-none-any.whl (269 kB)\n",
            "\u001b[2K     \u001b[90m━━━━━━━━━━━━━━━━━━━━━━━━━━━━━━━━━━━━━━━━\u001b[0m \u001b[32m269.1/269.1 kB\u001b[0m \u001b[31m9.3 MB/s\u001b[0m eta \u001b[36m0:00:00\u001b[0m\n",
            "\u001b[?25hCollecting langchain-openai==0.1.1 (from -r requirements.txt (line 3))\n",
            "  Downloading langchain_openai-0.1.1-py3-none-any.whl (32 kB)\n",
            "Collecting python-dotenv==1.0.1 (from -r requirements.txt (line 4))\n",
            "  Downloading python_dotenv-1.0.1-py3-none-any.whl (19 kB)\n",
            "Requirement already satisfied: beautifulsoup4==4.12.3 in /usr/local/lib/python3.10/dist-packages (from -r requirements.txt (line 5)) (4.12.3)\n",
            "Collecting faiss-cpu==1.8.0 (from -r requirements.txt (line 6))\n",
            "  Downloading faiss_cpu-1.8.0-cp310-cp310-manylinux_2_17_x86_64.manylinux2014_x86_64.whl (27.0 MB)\n",
            "\u001b[2K     \u001b[90m━━━━━━━━━━━━━━━━━━━━━━━━━━━━━━━━━━━━━━━━\u001b[0m \u001b[32m27.0/27.0 MB\u001b[0m \u001b[31m38.4 MB/s\u001b[0m eta \u001b[36m0:00:00\u001b[0m\n",
            "\u001b[?25hCollecting huggingface_hub==0.21.4 (from -r requirements.txt (line 7))\n",
            "  Downloading huggingface_hub-0.21.4-py3-none-any.whl (346 kB)\n",
            "\u001b[2K     \u001b[90m━━━━━━━━━━━━━━━━━━━━━━━━━━━━━━━━━━━━━━━━\u001b[0m \u001b[32m346.4/346.4 kB\u001b[0m \u001b[31m32.4 MB/s\u001b[0m eta \u001b[36m0:00:00\u001b[0m\n",
            "\u001b[?25hRequirement already satisfied: PyYAML>=5.3 in /usr/local/lib/python3.10/dist-packages (from langchain==0.1.13->-r requirements.txt (line 1)) (6.0.1)\n",
            "Requirement already satisfied: SQLAlchemy<3,>=1.4 in /usr/local/lib/python3.10/dist-packages (from langchain==0.1.13->-r requirements.txt (line 1)) (2.0.29)\n",
            "Requirement already satisfied: aiohttp<4.0.0,>=3.8.3 in /usr/local/lib/python3.10/dist-packages (from langchain==0.1.13->-r requirements.txt (line 1)) (3.9.3)\n",
            "Requirement already satisfied: async-timeout<5.0.0,>=4.0.0 in /usr/local/lib/python3.10/dist-packages (from langchain==0.1.13->-r requirements.txt (line 1)) (4.0.3)\n",
            "Collecting dataclasses-json<0.7,>=0.5.7 (from langchain==0.1.13->-r requirements.txt (line 1))\n",
            "  Downloading dataclasses_json-0.6.4-py3-none-any.whl (28 kB)\n",
            "Collecting jsonpatch<2.0,>=1.33 (from langchain==0.1.13->-r requirements.txt (line 1))\n",
            "  Downloading jsonpatch-1.33-py2.py3-none-any.whl (12 kB)\n",
            "Collecting langchain-community<0.1,>=0.0.29 (from langchain==0.1.13->-r requirements.txt (line 1))\n",
            "  Downloading langchain_community-0.0.31-py3-none-any.whl (1.9 MB)\n",
            "\u001b[2K     \u001b[90m━━━━━━━━━━━━━━━━━━━━━━━━━━━━━━━━━━━━━━━━\u001b[0m \u001b[32m1.9/1.9 MB\u001b[0m \u001b[31m51.4 MB/s\u001b[0m eta \u001b[36m0:00:00\u001b[0m\n",
            "\u001b[?25hCollecting langchain-text-splitters<0.1,>=0.0.1 (from langchain==0.1.13->-r requirements.txt (line 1))\n",
            "  Downloading langchain_text_splitters-0.0.1-py3-none-any.whl (21 kB)\n",
            "Collecting langsmith<0.2.0,>=0.1.17 (from langchain==0.1.13->-r requirements.txt (line 1))\n",
            "  Downloading langsmith-0.1.42-py3-none-any.whl (101 kB)\n",
            "\u001b[2K     \u001b[90m━━━━━━━━━━━━━━━━━━━━━━━━━━━━━━━━━━━━━━━━\u001b[0m \u001b[32m101.7/101.7 kB\u001b[0m \u001b[31m12.7 MB/s\u001b[0m eta \u001b[36m0:00:00\u001b[0m\n",
            "\u001b[?25hRequirement already satisfied: numpy<2,>=1 in /usr/local/lib/python3.10/dist-packages (from langchain==0.1.13->-r requirements.txt (line 1)) (1.25.2)\n",
            "Requirement already satisfied: pydantic<3,>=1 in /usr/local/lib/python3.10/dist-packages (from langchain==0.1.13->-r requirements.txt (line 1)) (2.6.4)\n",
            "Requirement already satisfied: requests<3,>=2 in /usr/local/lib/python3.10/dist-packages (from langchain==0.1.13->-r requirements.txt (line 1)) (2.31.0)\n",
            "Requirement already satisfied: tenacity<9.0.0,>=8.1.0 in /usr/local/lib/python3.10/dist-packages (from langchain==0.1.13->-r requirements.txt (line 1)) (8.2.3)\n",
            "Requirement already satisfied: anyio<5,>=3 in /usr/local/lib/python3.10/dist-packages (from langchain-core==0.1.33->-r requirements.txt (line 2)) (3.7.1)\n",
            "Collecting packaging<24.0,>=23.2 (from langchain-core==0.1.33->-r requirements.txt (line 2))\n",
            "  Downloading packaging-23.2-py3-none-any.whl (53 kB)\n",
            "\u001b[2K     \u001b[90m━━━━━━━━━━━━━━━━━━━━━━━━━━━━━━━━━━━━━━━━\u001b[0m \u001b[32m53.0/53.0 kB\u001b[0m \u001b[31m6.7 MB/s\u001b[0m eta \u001b[36m0:00:00\u001b[0m\n",
            "\u001b[?25hCollecting openai<2.0.0,>=1.10.0 (from langchain-openai==0.1.1->-r requirements.txt (line 3))\n",
            "  Downloading openai-1.16.2-py3-none-any.whl (267 kB)\n",
            "\u001b[2K     \u001b[90m━━━━━━━━━━━━━━━━━━━━━━━━━━━━━━━━━━━━━━━━\u001b[0m \u001b[32m267.1/267.1 kB\u001b[0m \u001b[31m35.1 MB/s\u001b[0m eta \u001b[36m0:00:00\u001b[0m\n",
            "\u001b[?25hCollecting tiktoken<1,>=0.5.2 (from langchain-openai==0.1.1->-r requirements.txt (line 3))\n",
            "  Downloading tiktoken-0.6.0-cp310-cp310-manylinux_2_17_x86_64.manylinux2014_x86_64.whl (1.8 MB)\n",
            "\u001b[2K     \u001b[90m━━━━━━━━━━━━━━━━━━━━━━━━━━━━━━━━━━━━━━━━\u001b[0m \u001b[32m1.8/1.8 MB\u001b[0m \u001b[31m64.4 MB/s\u001b[0m eta \u001b[36m0:00:00\u001b[0m\n",
            "\u001b[?25hRequirement already satisfied: soupsieve>1.2 in /usr/local/lib/python3.10/dist-packages (from beautifulsoup4==4.12.3->-r requirements.txt (line 5)) (2.5)\n",
            "Requirement already satisfied: filelock in /usr/local/lib/python3.10/dist-packages (from huggingface_hub==0.21.4->-r requirements.txt (line 7)) (3.13.3)\n",
            "Requirement already satisfied: fsspec>=2023.5.0 in /usr/local/lib/python3.10/dist-packages (from huggingface_hub==0.21.4->-r requirements.txt (line 7)) (2023.6.0)\n",
            "Requirement already satisfied: tqdm>=4.42.1 in /usr/local/lib/python3.10/dist-packages (from huggingface_hub==0.21.4->-r requirements.txt (line 7)) (4.66.2)\n",
            "Requirement already satisfied: typing-extensions>=3.7.4.3 in /usr/local/lib/python3.10/dist-packages (from huggingface_hub==0.21.4->-r requirements.txt (line 7)) (4.10.0)\n",
            "Requirement already satisfied: aiosignal>=1.1.2 in /usr/local/lib/python3.10/dist-packages (from aiohttp<4.0.0,>=3.8.3->langchain==0.1.13->-r requirements.txt (line 1)) (1.3.1)\n",
            "Requirement already satisfied: attrs>=17.3.0 in /usr/local/lib/python3.10/dist-packages (from aiohttp<4.0.0,>=3.8.3->langchain==0.1.13->-r requirements.txt (line 1)) (23.2.0)\n",
            "Requirement already satisfied: frozenlist>=1.1.1 in /usr/local/lib/python3.10/dist-packages (from aiohttp<4.0.0,>=3.8.3->langchain==0.1.13->-r requirements.txt (line 1)) (1.4.1)\n",
            "Requirement already satisfied: multidict<7.0,>=4.5 in /usr/local/lib/python3.10/dist-packages (from aiohttp<4.0.0,>=3.8.3->langchain==0.1.13->-r requirements.txt (line 1)) (6.0.5)\n",
            "Requirement already satisfied: yarl<2.0,>=1.0 in /usr/local/lib/python3.10/dist-packages (from aiohttp<4.0.0,>=3.8.3->langchain==0.1.13->-r requirements.txt (line 1)) (1.9.4)\n",
            "Requirement already satisfied: idna>=2.8 in /usr/local/lib/python3.10/dist-packages (from anyio<5,>=3->langchain-core==0.1.33->-r requirements.txt (line 2)) (3.6)\n",
            "Requirement already satisfied: sniffio>=1.1 in /usr/local/lib/python3.10/dist-packages (from anyio<5,>=3->langchain-core==0.1.33->-r requirements.txt (line 2)) (1.3.1)\n",
            "Requirement already satisfied: exceptiongroup in /usr/local/lib/python3.10/dist-packages (from anyio<5,>=3->langchain-core==0.1.33->-r requirements.txt (line 2)) (1.2.0)\n",
            "Collecting marshmallow<4.0.0,>=3.18.0 (from dataclasses-json<0.7,>=0.5.7->langchain==0.1.13->-r requirements.txt (line 1))\n",
            "  Downloading marshmallow-3.21.1-py3-none-any.whl (49 kB)\n",
            "\u001b[2K     \u001b[90m━━━━━━━━━━━━━━━━━━━━━━━━━━━━━━━━━━━━━━━━\u001b[0m \u001b[32m49.4/49.4 kB\u001b[0m \u001b[31m6.2 MB/s\u001b[0m eta \u001b[36m0:00:00\u001b[0m\n",
            "\u001b[?25hCollecting typing-inspect<1,>=0.4.0 (from dataclasses-json<0.7,>=0.5.7->langchain==0.1.13->-r requirements.txt (line 1))\n",
            "  Downloading typing_inspect-0.9.0-py3-none-any.whl (8.8 kB)\n",
            "Collecting jsonpointer>=1.9 (from jsonpatch<2.0,>=1.33->langchain==0.1.13->-r requirements.txt (line 1))\n",
            "  Downloading jsonpointer-2.4-py2.py3-none-any.whl (7.8 kB)\n",
            "INFO: pip is looking at multiple versions of langchain-community to determine which version is compatible with other requirements. This could take a while.\n",
            "Collecting langchain-community<0.1,>=0.0.29 (from langchain==0.1.13->-r requirements.txt (line 1))\n",
            "  Downloading langchain_community-0.0.30-py3-none-any.whl (1.9 MB)\n",
            "\u001b[2K     \u001b[90m━━━━━━━━━━━━━━━━━━━━━━━━━━━━━━━━━━━━━━━━\u001b[0m \u001b[32m1.9/1.9 MB\u001b[0m \u001b[31m61.4 MB/s\u001b[0m eta \u001b[36m0:00:00\u001b[0m\n",
            "\u001b[?25h  Downloading langchain_community-0.0.29-py3-none-any.whl (1.8 MB)\n",
            "\u001b[2K     \u001b[90m━━━━━━━━━━━━━━━━━━━━━━━━━━━━━━━━━━━━━━━━\u001b[0m \u001b[32m1.8/1.8 MB\u001b[0m \u001b[31m59.6 MB/s\u001b[0m eta \u001b[36m0:00:00\u001b[0m\n",
            "\u001b[?25hCollecting orjson<4.0.0,>=3.9.14 (from langsmith<0.2.0,>=0.1.17->langchain==0.1.13->-r requirements.txt (line 1))\n",
            "  Downloading orjson-3.10.0-cp310-cp310-manylinux_2_17_x86_64.manylinux2014_x86_64.whl (144 kB)\n",
            "\u001b[2K     \u001b[90m━━━━━━━━━━━━━━━━━━━━━━━━━━━━━━━━━━━━━━━━\u001b[0m \u001b[32m144.8/144.8 kB\u001b[0m \u001b[31m21.1 MB/s\u001b[0m eta \u001b[36m0:00:00\u001b[0m\n",
            "\u001b[?25hRequirement already satisfied: distro<2,>=1.7.0 in /usr/lib/python3/dist-packages (from openai<2.0.0,>=1.10.0->langchain-openai==0.1.1->-r requirements.txt (line 3)) (1.7.0)\n",
            "Collecting httpx<1,>=0.23.0 (from openai<2.0.0,>=1.10.0->langchain-openai==0.1.1->-r requirements.txt (line 3))\n",
            "  Downloading httpx-0.27.0-py3-none-any.whl (75 kB)\n",
            "\u001b[2K     \u001b[90m━━━━━━━━━━━━━━━━━━━━━━━━━━━━━━━━━━━━━━━━\u001b[0m \u001b[32m75.6/75.6 kB\u001b[0m \u001b[31m12.0 MB/s\u001b[0m eta \u001b[36m0:00:00\u001b[0m\n",
            "\u001b[?25hRequirement already satisfied: annotated-types>=0.4.0 in /usr/local/lib/python3.10/dist-packages (from pydantic<3,>=1->langchain==0.1.13->-r requirements.txt (line 1)) (0.6.0)\n",
            "Requirement already satisfied: pydantic-core==2.16.3 in /usr/local/lib/python3.10/dist-packages (from pydantic<3,>=1->langchain==0.1.13->-r requirements.txt (line 1)) (2.16.3)\n",
            "Requirement already satisfied: charset-normalizer<4,>=2 in /usr/local/lib/python3.10/dist-packages (from requests<3,>=2->langchain==0.1.13->-r requirements.txt (line 1)) (3.3.2)\n",
            "Requirement already satisfied: urllib3<3,>=1.21.1 in /usr/local/lib/python3.10/dist-packages (from requests<3,>=2->langchain==0.1.13->-r requirements.txt (line 1)) (2.0.7)\n",
            "Requirement already satisfied: certifi>=2017.4.17 in /usr/local/lib/python3.10/dist-packages (from requests<3,>=2->langchain==0.1.13->-r requirements.txt (line 1)) (2024.2.2)\n",
            "Requirement already satisfied: greenlet!=0.4.17 in /usr/local/lib/python3.10/dist-packages (from SQLAlchemy<3,>=1.4->langchain==0.1.13->-r requirements.txt (line 1)) (3.0.3)\n",
            "Requirement already satisfied: regex>=2022.1.18 in /usr/local/lib/python3.10/dist-packages (from tiktoken<1,>=0.5.2->langchain-openai==0.1.1->-r requirements.txt (line 3)) (2023.12.25)\n",
            "Collecting httpcore==1.* (from httpx<1,>=0.23.0->openai<2.0.0,>=1.10.0->langchain-openai==0.1.1->-r requirements.txt (line 3))\n",
            "  Downloading httpcore-1.0.5-py3-none-any.whl (77 kB)\n",
            "\u001b[2K     \u001b[90m━━━━━━━━━━━━━━━━━━━━━━━━━━━━━━━━━━━━━━━━\u001b[0m \u001b[32m77.9/77.9 kB\u001b[0m \u001b[31m11.6 MB/s\u001b[0m eta \u001b[36m0:00:00\u001b[0m\n",
            "\u001b[?25hCollecting h11<0.15,>=0.13 (from httpcore==1.*->httpx<1,>=0.23.0->openai<2.0.0,>=1.10.0->langchain-openai==0.1.1->-r requirements.txt (line 3))\n",
            "  Downloading h11-0.14.0-py3-none-any.whl (58 kB)\n",
            "\u001b[2K     \u001b[90m━━━━━━━━━━━━━━━━━━━━━━━━━━━━━━━━━━━━━━━━\u001b[0m \u001b[32m58.3/58.3 kB\u001b[0m \u001b[31m8.9 MB/s\u001b[0m eta \u001b[36m0:00:00\u001b[0m\n",
            "\u001b[?25hCollecting mypy-extensions>=0.3.0 (from typing-inspect<1,>=0.4.0->dataclasses-json<0.7,>=0.5.7->langchain==0.1.13->-r requirements.txt (line 1))\n",
            "  Downloading mypy_extensions-1.0.0-py3-none-any.whl (4.7 kB)\n",
            "Installing collected packages: python-dotenv, packaging, orjson, mypy-extensions, jsonpointer, h11, faiss-cpu, typing-inspect, tiktoken, marshmallow, jsonpatch, huggingface_hub, httpcore, langsmith, httpx, dataclasses-json, openai, langchain-core, langchain-text-splitters, langchain-openai, langchain-community, langchain\n",
            "  Attempting uninstall: packaging\n",
            "    Found existing installation: packaging 24.0\n",
            "    Uninstalling packaging-24.0:\n",
            "      Successfully uninstalled packaging-24.0\n",
            "  Attempting uninstall: huggingface_hub\n",
            "    Found existing installation: huggingface-hub 0.20.3\n",
            "    Uninstalling huggingface-hub-0.20.3:\n",
            "      Successfully uninstalled huggingface-hub-0.20.3\n",
            "Successfully installed dataclasses-json-0.6.4 faiss-cpu-1.8.0 h11-0.14.0 httpcore-1.0.5 httpx-0.27.0 huggingface_hub-0.21.4 jsonpatch-1.33 jsonpointer-2.4 langchain-0.1.13 langchain-community-0.0.29 langchain-core-0.1.33 langchain-openai-0.1.1 langchain-text-splitters-0.0.1 langsmith-0.1.42 marshmallow-3.21.1 mypy-extensions-1.0.0 openai-1.16.2 orjson-3.10.0 packaging-23.2 python-dotenv-1.0.1 tiktoken-0.6.0 typing-inspect-0.9.0\n"
          ]
        }
      ]
    },
    {
      "cell_type": "markdown",
      "source": [
        "# Get environments from .env"
      ],
      "metadata": {
        "id": "jKsADDm20S1j"
      },
      "id": "jKsADDm20S1j"
    },
    {
      "cell_type": "code",
      "source": [
        "from dotenv import load_dotenv\n",
        "load_dotenv()"
      ],
      "metadata": {
        "colab": {
          "base_uri": "https://localhost:8080/"
        },
        "id": "ErnD4oMBw8YU",
        "outputId": "90dbb432-8155-4ec8-fc66-279cb7f1caa5"
      },
      "id": "ErnD4oMBw8YU",
      "execution_count": 2,
      "outputs": [
        {
          "output_type": "execute_result",
          "data": {
            "text/plain": [
              "True"
            ]
          },
          "metadata": {},
          "execution_count": 2
        }
      ]
    },
    {
      "cell_type": "markdown",
      "source": [
        "# Using langchain_openai gpt-3.5-turbo"
      ],
      "metadata": {
        "id": "CzN0TgPq0dSj"
      },
      "id": "CzN0TgPq0dSj"
    },
    {
      "cell_type": "code",
      "source": [
        "from langchain_openai import ChatOpenAI\n",
        "\n",
        "llm = ChatOpenAI(\n",
        "    model_name = \"gpt-3.5-turbo\",\n",
        "    temperature=0.6\n",
        ")"
      ],
      "metadata": {
        "id": "26C3bzmxyEGb"
      },
      "id": "26C3bzmxyEGb",
      "execution_count": null,
      "outputs": []
    },
    {
      "cell_type": "code",
      "source": [
        "text = \"Who is Albert Einstein?\"\n",
        "response = llm.invoke(text)\n",
        "response"
      ],
      "metadata": {
        "colab": {
          "base_uri": "https://localhost:8080/"
        },
        "id": "hgmG_Yvby9P8",
        "outputId": "2c2d1b91-40ae-4689-f75c-28e70f1c7ec1"
      },
      "id": "hgmG_Yvby9P8",
      "execution_count": null,
      "outputs": [
        {
          "output_type": "execute_result",
          "data": {
            "text/plain": [
              "AIMessage(content=\"Albert Einstein was a German-born theoretical physicist who is widely considered one of the greatest scientists of the 20th century. He is best known for developing the theory of relativity, which revolutionized our understanding of space, time, and gravity. Einstein also made significant contributions to the fields of quantum mechanics, cosmology, and particle physics. He was awarded the Nobel Prize in Physics in 1921 for his work on the photoelectric effect. Einstein's work had a profound impact on modern physics and continues to influence scientific research and thinking to this day.\", response_metadata={'token_usage': {'completion_tokens': 111, 'prompt_tokens': 12, 'total_tokens': 123}, 'model_name': 'gpt-3.5-turbo', 'system_fingerprint': 'fp_b28b39ffa8', 'finish_reason': 'stop', 'logprobs': None})"
            ]
          },
          "metadata": {},
          "execution_count": 4
        }
      ]
    },
    {
      "cell_type": "markdown",
      "source": [
        "# Using Hugging Face Model"
      ],
      "metadata": {
        "id": "aKequZg90nCs"
      },
      "id": "aKequZg90nCs"
    },
    {
      "cell_type": "code",
      "source": [
        "from langchain_community.llms import HuggingFaceHub\n",
        "import os\n",
        "\n",
        "hf = HuggingFaceHub(repo_id = \"google/flan-t5-large\",model_kwargs={\"temperature\":0.7,\"max_length\":100},\n",
        "                    huggingfacehub_api_token=os.environ[\"HUGGINGFACEHUB_API_TOKEN\"])"
      ],
      "metadata": {
        "colab": {
          "base_uri": "https://localhost:8080/"
        },
        "id": "mG1N4WtuzgC0",
        "outputId": "49fe4f4a-1689-4e74-9330-67e26799ffac"
      },
      "id": "mG1N4WtuzgC0",
      "execution_count": null,
      "outputs": [
        {
          "output_type": "stream",
          "name": "stderr",
          "text": [
            "/usr/local/lib/python3.10/dist-packages/langchain_core/_api/deprecation.py:117: LangChainDeprecationWarning: The class `langchain_community.llms.huggingface_hub.HuggingFaceHub` was deprecated in langchain-community 0.0.21 and will be removed in 0.2.0. Use HuggingFaceEndpoint instead.\n",
            "  warn_deprecated(\n"
          ]
        }
      ]
    },
    {
      "cell_type": "code",
      "source": [
        "output = hf.invoke(text);\n",
        "print(output)"
      ],
      "metadata": {
        "colab": {
          "base_uri": "https://localhost:8080/"
        },
        "id": "C3JbuXN-1zeP",
        "outputId": "7653f0ad-ee1b-4379-c5a3-66c82bdee30d"
      },
      "id": "C3JbuXN-1zeP",
      "execution_count": null,
      "outputs": [
        {
          "output_type": "stream",
          "name": "stdout",
          "text": [
            "physicist\n"
          ]
        }
      ]
    },
    {
      "cell_type": "markdown",
      "source": [
        "# ChatModel vs HuggingFaceModel"
      ],
      "metadata": {
        "id": "-f9yCJBi3M5u"
      },
      "id": "-f9yCJBi3M5u"
    },
    {
      "cell_type": "code",
      "source": [
        "recommend= \"Can you recommend a film about science fiction?\""
      ],
      "metadata": {
        "id": "Py8Oh4ap3ABh"
      },
      "id": "Py8Oh4ap3ABh",
      "execution_count": null,
      "outputs": []
    },
    {
      "cell_type": "code",
      "source": [
        "from langchain_core.messages import HumanMessage\n",
        "messages = [HumanMessage(content= recommend)]"
      ],
      "metadata": {
        "id": "jO11Gdbx3QA2"
      },
      "id": "jO11Gdbx3QA2",
      "execution_count": null,
      "outputs": []
    },
    {
      "cell_type": "code",
      "source": [
        "from langchain_openai import ChatOpenAI,OpenAI\n",
        "llm = OpenAI()\n",
        "chat_model = ChatOpenAI()"
      ],
      "metadata": {
        "id": "qZ6pGCBg3cvb"
      },
      "id": "qZ6pGCBg3cvb",
      "execution_count": null,
      "outputs": []
    },
    {
      "cell_type": "code",
      "source": [
        "##LLM\n",
        "\n",
        "llm.invoke(recommend)"
      ],
      "metadata": {
        "colab": {
          "base_uri": "https://localhost:8080/",
          "height": 89
        },
        "id": "Z7RKcvv53zr4",
        "outputId": "36c86935-60d5-4260-a81e-a889f6fee451"
      },
      "id": "Z7RKcvv53zr4",
      "execution_count": null,
      "outputs": [
        {
          "output_type": "execute_result",
          "data": {
            "text/plain": [
              "'\\n\\nOne popular science fiction film that is often recommended is \"Blade Runner\" (1982) directed by Ridley Scott. Other options include \"The Matrix\" (1999) directed by the Wachowskis, \"Inception\" (2010) directed by Christopher Nolan, \"2001: A Space Odyssey\" (1968) directed by Stanley Kubrick, and \"Eternal Sunshine of the Spotless Mind\" (2004) directed by Michel Gondry.'"
            ],
            "application/vnd.google.colaboratory.intrinsic+json": {
              "type": "string"
            }
          },
          "metadata": {},
          "execution_count": 11
        }
      ]
    },
    {
      "cell_type": "code",
      "source": [
        "chat_model.invoke(recommend)"
      ],
      "metadata": {
        "colab": {
          "base_uri": "https://localhost:8080/"
        },
        "id": "TmE7dyGT4BCi",
        "outputId": "7d33736b-4ec7-4ac7-acec-3e056d4e44ac"
      },
      "id": "TmE7dyGT4BCi",
      "execution_count": null,
      "outputs": [
        {
          "output_type": "execute_result",
          "data": {
            "text/plain": [
              "AIMessage(content='Sure! I recommend the film \"Blade Runner 2049\" directed by Denis Villeneuve. This film is a visually stunning and thought-provoking science fiction movie that explores themes of artificial intelligence, identity, and the nature of humanity. It is a sequel to the classic film \"Blade Runner\" and has received critical acclaim for its stunning cinematography, compelling story, and powerful performances from its cast. I think you will enjoy it if you are a fan of science fiction films.', response_metadata={'token_usage': {'completion_tokens': 100, 'prompt_tokens': 16, 'total_tokens': 116}, 'model_name': 'gpt-3.5-turbo', 'system_fingerprint': 'fp_b28b39ffa8', 'finish_reason': 'stop', 'logprobs': None})"
            ]
          },
          "metadata": {},
          "execution_count": 12
        }
      ]
    },
    {
      "cell_type": "markdown",
      "source": [
        "# Prompt Engineering"
      ],
      "metadata": {
        "id": "Vnu1iRjwQZWY"
      },
      "id": "Vnu1iRjwQZWY"
    },
    {
      "cell_type": "markdown",
      "source": [
        "### Create Prompt Template"
      ],
      "metadata": {
        "id": "PSkrdZIkRTjt"
      },
      "id": "PSkrdZIkRTjt"
    },
    {
      "cell_type": "code",
      "source": [
        "from langchain.prompts import PromptTemplate\n",
        "\n",
        "prompt = PromptTemplate.from_template(\"Can you recommend a film about {topic}?\")"
      ],
      "metadata": {
        "id": "WBSqwhl5QcZl"
      },
      "id": "WBSqwhl5QcZl",
      "execution_count": null,
      "outputs": []
    },
    {
      "cell_type": "markdown",
      "source": [
        "### Change Prompt Format"
      ],
      "metadata": {
        "id": "nB-FjH7-RYll"
      },
      "id": "nB-FjH7-RYll"
    },
    {
      "cell_type": "code",
      "source": [
        "prompt.format(topic=\"Romantic Comedy\")"
      ],
      "metadata": {
        "colab": {
          "base_uri": "https://localhost:8080/",
          "height": 35
        },
        "id": "rPNCGlMSRFIF",
        "outputId": "74d860b6-b18d-419e-b09e-45e1ae6548dd"
      },
      "id": "rPNCGlMSRFIF",
      "execution_count": null,
      "outputs": [
        {
          "output_type": "execute_result",
          "data": {
            "text/plain": [
              "'Can you recommend a film about Romantic Comedy?'"
            ],
            "application/vnd.google.colaboratory.intrinsic+json": {
              "type": "string"
            }
          },
          "metadata": {},
          "execution_count": 14
        }
      ]
    },
    {
      "cell_type": "markdown",
      "source": [
        "### Import ChatOpenAI"
      ],
      "metadata": {
        "id": "PFCdikyLR9Z2"
      },
      "id": "PFCdikyLR9Z2"
    },
    {
      "cell_type": "code",
      "source": [
        "from langchain_openai import ChatOpenAI\n",
        "\n",
        "llm = ChatOpenAI()"
      ],
      "metadata": {
        "id": "n8vERQ1RRgao"
      },
      "id": "n8vERQ1RRgao",
      "execution_count": null,
      "outputs": []
    },
    {
      "cell_type": "markdown",
      "source": [
        "### Merge prompt and llm for your chain\n",
        "\n"
      ],
      "metadata": {
        "id": "qkqYQ9DySgGz"
      },
      "id": "qkqYQ9DySgGz"
    },
    {
      "cell_type": "code",
      "source": [
        "chain = prompt | llm"
      ],
      "metadata": {
        "id": "o-fEWQGCRnUG"
      },
      "id": "o-fEWQGCRnUG",
      "execution_count": null,
      "outputs": []
    },
    {
      "cell_type": "code",
      "source": [
        "chain.invoke({\"topic\":\"Romantic Comedy\"})"
      ],
      "metadata": {
        "colab": {
          "base_uri": "https://localhost:8080/"
        },
        "id": "NbRBqB3PRryv",
        "outputId": "60b3e1e7-56ed-467d-b9b6-ecce8805e7d6"
      },
      "id": "NbRBqB3PRryv",
      "execution_count": null,
      "outputs": [
        {
          "output_type": "execute_result",
          "data": {
            "text/plain": [
              "AIMessage(content='One highly recommended romantic comedy film is \"When Harry Met Sally\" directed by Rob Reiner. This classic film follows the story of Harry and Sally as they navigate their complicated relationship over the years, exploring themes of friendship, love, and destiny. With witty dialogue, charming performances by Billy Crystal and Meg Ryan, and an iconic scene in Katz\\'s Delicatessen, \"When Harry Met Sally\" is a must-watch for fans of the genre.', response_metadata={'token_usage': {'completion_tokens': 90, 'prompt_tokens': 16, 'total_tokens': 106}, 'model_name': 'gpt-3.5-turbo', 'system_fingerprint': 'fp_b28b39ffa8', 'finish_reason': 'stop', 'logprobs': None})"
            ]
          },
          "metadata": {},
          "execution_count": 17
        }
      ]
    },
    {
      "cell_type": "markdown",
      "source": [
        "### You can change chain result with Output Parser"
      ],
      "metadata": {
        "id": "qo7rvEBgSnaD"
      },
      "id": "qo7rvEBgSnaD"
    },
    {
      "cell_type": "code",
      "source": [
        "from langchain_core.output_parsers import StrOutputParser\n",
        "\n",
        "output_parser = StrOutputParser()"
      ],
      "metadata": {
        "id": "jYR813LaR6JO"
      },
      "id": "jYR813LaR6JO",
      "execution_count": null,
      "outputs": []
    },
    {
      "cell_type": "code",
      "source": [
        "chain = prompt | llm | output_parser"
      ],
      "metadata": {
        "id": "8mFpOcknSOUY"
      },
      "id": "8mFpOcknSOUY",
      "execution_count": null,
      "outputs": []
    },
    {
      "cell_type": "code",
      "source": [
        "chain.invoke({\"topic\":\"Romantic Comedy\"})"
      ],
      "metadata": {
        "colab": {
          "base_uri": "https://localhost:8080/",
          "height": 89
        },
        "id": "_yDAtN6wSSt2",
        "outputId": "171e0ccc-78a8-4d99-ebf3-affda46ebbad"
      },
      "id": "_yDAtN6wSSt2",
      "execution_count": null,
      "outputs": [
        {
          "output_type": "execute_result",
          "data": {
            "text/plain": [
              "'One popular and well-reviewed romantic comedy film is \"Crazy, Stupid, Love\" starring Steve Carell, Ryan Gosling, and Emma Stone. The movie follows the story of a recently divorced man who seeks advice on dating from a suave bachelor, only to realize that love may be closer than he thinks. It\\'s a funny and heartwarming film that explores the ups and downs of relationships in a humorous and relatable way.'"
            ],
            "application/vnd.google.colaboratory.intrinsic+json": {
              "type": "string"
            }
          },
          "metadata": {},
          "execution_count": 20
        }
      ]
    },
    {
      "cell_type": "markdown",
      "source": [
        "### You can send prompt more than one"
      ],
      "metadata": {
        "id": "sJfH7dixTvmj"
      },
      "id": "sJfH7dixTvmj"
    },
    {
      "cell_type": "code",
      "source": [
        "from langchain.prompts.chat import ChatPromptTemplate\n",
        "template = \"You are a helpful assistant that translates {input_language} to {output_language}.\"\n",
        "\n",
        "human_template = \"{text}\";"
      ],
      "metadata": {
        "id": "B7C1-cSLTu9H"
      },
      "id": "B7C1-cSLTu9H",
      "execution_count": null,
      "outputs": []
    },
    {
      "cell_type": "code",
      "source": [
        "chat_prompt = ChatPromptTemplate.from_messages([\n",
        "    (\"system\",template),\n",
        "    (\"human\",human_template)\n",
        "])"
      ],
      "metadata": {
        "id": "tErFGmtaU0rK"
      },
      "id": "tErFGmtaU0rK",
      "execution_count": null,
      "outputs": []
    },
    {
      "cell_type": "code",
      "source": [
        "chat_prompt.format_messages(\n",
        "    input_language = \"English\",\n",
        "    output_language = \"Turkish\",\n",
        "    text = \"I love food\"\n",
        ")"
      ],
      "metadata": {
        "colab": {
          "base_uri": "https://localhost:8080/"
        },
        "id": "B6IUNGhaU_tf",
        "outputId": "2c23e21c-2bd6-4135-c530-7e6651e1d396"
      },
      "id": "B6IUNGhaU_tf",
      "execution_count": null,
      "outputs": [
        {
          "output_type": "execute_result",
          "data": {
            "text/plain": [
              "[SystemMessage(content='You are a helpful assistant that translates English to Turkish.'),\n",
              " HumanMessage(content='I love food')]"
            ]
          },
          "metadata": {},
          "execution_count": 23
        }
      ]
    },
    {
      "cell_type": "code",
      "source": [
        "chain = chat_prompt | llm | output_parser\n",
        "\n",
        "chain.invoke({\n",
        "    \"input_language\" : \"English\",\n",
        "    \"output_language\" : \"Turkish\",\n",
        "    \"text\" : \"I love food\"\n",
        "})"
      ],
      "metadata": {
        "colab": {
          "base_uri": "https://localhost:8080/",
          "height": 35
        },
        "id": "F7WqFeHpVULr",
        "outputId": "11767856-e83c-4202-eb7f-7f95d6459a65"
      },
      "id": "F7WqFeHpVULr",
      "execution_count": null,
      "outputs": [
        {
          "output_type": "execute_result",
          "data": {
            "text/plain": [
              "'Ben yiyecekleri seviyorum.'"
            ],
            "application/vnd.google.colaboratory.intrinsic+json": {
              "type": "string"
            }
          },
          "metadata": {},
          "execution_count": 24
        }
      ]
    },
    {
      "cell_type": "markdown",
      "source": [
        "# Working with Chains"
      ],
      "metadata": {
        "id": "qczTJu6jfSC5"
      },
      "id": "qczTJu6jfSC5"
    },
    {
      "cell_type": "markdown",
      "source": [
        "# LCEL (Langchain Expression Language)"
      ],
      "metadata": {
        "id": "OXqn-K5Qgd76"
      },
      "id": "OXqn-K5Qgd76"
    },
    {
      "cell_type": "code",
      "source": [
        "from langchain.prompts.chat import ChatPromptTemplate\n",
        "promptChain = PromptTemplate.from_template(\"Can you say name film's topic {name}?\")\n",
        "\n",
        "model = ChatOpenAI()"
      ],
      "metadata": {
        "id": "F6l4wclVgbTt"
      },
      "id": "F6l4wclVgbTt",
      "execution_count": null,
      "outputs": []
    },
    {
      "cell_type": "code",
      "source": [
        "from langchain_core.output_parsers import StrOutputParser\n",
        "\n",
        "output_parser = StrOutputParser()"
      ],
      "metadata": {
        "id": "relBgtQgie6U"
      },
      "id": "relBgtQgie6U",
      "execution_count": null,
      "outputs": []
    },
    {
      "cell_type": "code",
      "source": [
        "chain = promptChain|model|output_parser"
      ],
      "metadata": {
        "id": "RWnrKzmjigKB"
      },
      "id": "RWnrKzmjigKB",
      "execution_count": null,
      "outputs": []
    },
    {
      "cell_type": "code",
      "source": [
        "chain.invoke({\"name\":\"Angelina Jolie\"})"
      ],
      "metadata": {
        "colab": {
          "base_uri": "https://localhost:8080/",
          "height": 53
        },
        "id": "iDzZ-BXAiu9N",
        "outputId": "dd83ad95-cab9-4753-e478-8db7ad18da6a"
      },
      "id": "iDzZ-BXAiu9N",
      "execution_count": null,
      "outputs": [
        {
          "output_type": "execute_result",
          "data": {
            "text/plain": [
              "'Sure! One film topic that Angelina Jolie has been involved in is \"Maleficent,\" where she plays the iconic Disney villain from \"Sleeping Beauty.\"'"
            ],
            "application/vnd.google.colaboratory.intrinsic+json": {
              "type": "string"
            }
          },
          "metadata": {},
          "execution_count": 30
        }
      ]
    },
    {
      "cell_type": "code",
      "source": [
        "print(chain.invoke({\"name\":\"Angelina Jolie\"}))"
      ],
      "metadata": {
        "id": "91GvtcK_i1eM",
        "outputId": "c835b87c-e5eb-4e0a-c81a-43c30eb63bc0",
        "colab": {
          "base_uri": "https://localhost:8080/"
        }
      },
      "id": "91GvtcK_i1eM",
      "execution_count": null,
      "outputs": [
        {
          "output_type": "stream",
          "name": "stdout",
          "text": [
            "Sure, some films that feature Angelina Jolie include \"Maleficent\" and \"Girl, Interrupted.\"\n"
          ]
        }
      ]
    },
    {
      "cell_type": "code",
      "source": [],
      "metadata": {
        "id": "1oyiLYvxydBk"
      },
      "id": "1oyiLYvxydBk",
      "execution_count": null,
      "outputs": []
    },
    {
      "cell_type": "markdown",
      "source": [
        "# RAG"
      ],
      "metadata": {
        "id": "ep5SGRN7ydNy"
      },
      "id": "ep5SGRN7ydNy"
    },
    {
      "cell_type": "code",
      "source": [
        "from langchain_openai import ChatOpenAI\n",
        "model= ChatOpenAI()"
      ],
      "metadata": {
        "id": "0vlyZ1OlyfU-"
      },
      "id": "0vlyZ1OlyfU-",
      "execution_count": null,
      "outputs": []
    },
    {
      "cell_type": "code",
      "source": [
        "from langchain_core.prompts import ChatPromptTemplate\n",
        "\n",
        "prompt=ChatPromptTemplate.from_messages(\n",
        "    [\n",
        "        (\"system\", \"You are technical documentation writer about software.\"),\n",
        "        (\"user\", \"{input}\"),\n",
        "    ]\n",
        ")"
      ],
      "metadata": {
        "id": "9snSW9u3yxLN"
      },
      "id": "9snSW9u3yxLN",
      "execution_count": null,
      "outputs": []
    },
    {
      "cell_type": "code",
      "source": [
        "from langchain_core.output_parsers import StrOutputParser\n",
        "\n",
        "output_parser = StrOutputParser()"
      ],
      "metadata": {
        "id": "HEDYz7dQzv1Z"
      },
      "id": "HEDYz7dQzv1Z",
      "execution_count": null,
      "outputs": []
    },
    {
      "cell_type": "code",
      "source": [
        "chain = prompt | model | output_parser\n"
      ],
      "metadata": {
        "id": "9hK9j62E0Wji"
      },
      "id": "9hK9j62E0Wji",
      "execution_count": null,
      "outputs": []
    },
    {
      "cell_type": "code",
      "source": [
        "print(chain.invoke(\n",
        "    {\n",
        "        \"input\":\"What is React.js?\"\n",
        "    }\n",
        "))"
      ],
      "metadata": {
        "colab": {
          "base_uri": "https://localhost:8080/"
        },
        "id": "YUhgn2sX0ZNh",
        "outputId": "8172a401-020b-482f-dd6f-d9f85977d1b8"
      },
      "id": "YUhgn2sX0ZNh",
      "execution_count": null,
      "outputs": [
        {
          "output_type": "stream",
          "name": "stdout",
          "text": [
            "React.js is a JavaScript library for building user interfaces. Developed and maintained by Facebook, React allows developers to create interactive and dynamic UI components for web applications. React uses a declarative approach to define how the UI should look based on the application's state, making it easier to manage and update the UI as the state changes.\n",
            "\n",
            "React utilizes a virtual DOM (Document Object Model) to efficiently update the actual DOM, resulting in better performance and faster rendering of UI components. It also promotes component-based architecture, where UI elements are broken down into reusable and independent components that can be composed together to build complex interfaces.\n",
            "\n",
            "React has gained popularity for its simplicity, performance, and flexibility in building modern web applications. It is often used in combination with other libraries and frameworks, such as Redux for state management and React Router for routing, to create robust and scalable web applications.\n"
          ]
        }
      ]
    },
    {
      "cell_type": "markdown",
      "source": [
        "# Retrieval Technique"
      ],
      "metadata": {
        "id": "uTXMdHKjPfMs"
      },
      "id": "uTXMdHKjPfMs"
    },
    {
      "cell_type": "code",
      "source": [
        "from langchain_community.document_loaders import WebBaseLoader\n",
        "\n",
        "loader = WebBaseLoader(\"https://m.imdb.com/chart/top/\")\n",
        "\n",
        "docs = loader.load()"
      ],
      "metadata": {
        "id": "5yM3vxzKPhfP"
      },
      "id": "5yM3vxzKPhfP",
      "execution_count": 3,
      "outputs": []
    },
    {
      "cell_type": "code",
      "source": [
        "docs"
      ],
      "metadata": {
        "colab": {
          "base_uri": "https://localhost:8080/"
        },
        "id": "q3h1-TVGQNVz",
        "outputId": "1efb5c01-32da-4120-e28a-a4a526c3bbf0"
      },
      "id": "q3h1-TVGQNVz",
      "execution_count": 5,
      "outputs": [
        {
          "output_type": "execute_result",
          "data": {
            "text/plain": [
              "[Document(page_content=\"IMDb Top 250 Movies \\n\\n\\nMenuMoviesRelease CalendarTop 250 MoviesMost Popular MoviesBrowse Movies by GenreTop Box OfficeShowtimes & TicketsMovie NewsIndia Movie SpotlightTV ShowsWhat's on TV & StreamingTop 250 TV ShowsMost Popular TV ShowsBrowse TV Shows by GenreTV NewsWatchWhat to WatchLatest TrailersIMDb OriginalsIMDb PicksIMDb SpotlightIMDb PodcastsAwards & EventsOscarsSXSW Film FestivalCannes Film FestivalSTARmeter AwardsAwards CentralFestival CentralAll EventsCelebsBorn TodayMost Popular CelebsCelebrity NewsCommunityHelp CenterContributor ZonePollsFor Industry ProfessionalsLanguageEnglish (United States)LanguageFully supportedEnglish (United States)Partially supportedFrançais (Canada)Français (France)Deutsch (Deutschland)हिंदी (भारत)Italiano (Italia)Português (Brasil)Español (España)Español (México)AllAllTitlesTV EpisodesCelebsCompaniesKeywordsAdvanced SearchWatchlistSign InSign InNew Customer?\\xa0Create accountENFully supportedEnglish (United States)Partially supportedFrançais (Canada)Français (France)Deutsch (Deutschland)हिंदी (भारत)Italiano (Italia)Português (Brasil)Español (España)Español (México)Use appIMDb ChartsShareIMDb Top 250 MoviesAs rated by regular IMDb voters.250 TitlesSort byRankingRankingIMDb ratingRelease dateNumber of ratingsAlphabeticalPopularityRuntime1. The Shawshank Redemption19942h 22mR9.3\\xa0(2.9M)Rate2. The Godfather19722h 55mR9.2\\xa0(2M)Rate3. The Dark Knight20082h 32mPG-139.0\\xa0(2.9M)Rate4. The Godfather Part II19743h 22mR9.0\\xa0(1.4M)Rate5. 12 Angry Men19571h 36mApproved9.0\\xa0(862K)Rate6. Schindler's List19933h 15mR9.0\\xa0(1.4M)Rate7. The Lord of the Rings: The Return of the King20033h 21mPG-139.0\\xa0(2M)Rate8. Pulp Fiction19942h 34mR8.9\\xa0(2.2M)Rate9. The Lord of the Rings: The Fellowship of the Ring20012h 58mPG-138.9\\xa0(2M)Rate10. The Good, the Bad and the Ugly19662h 58mApproved8.8\\xa0(809K)Rate11. Forrest Gump19942h 22mPG-138.8\\xa0(2.3M)Rate12. The Lord of the Rings: The Two Towers20022h 59mPG-138.8\\xa0(1.8M)Rate13. Fight Club19992h 19mR8.8\\xa0(2.3M)Rate14. Inception20102h 28mPG-138.8\\xa0(2.5M)Rate15. Star Wars: Episode V - The Empire Strikes Back19802h 4mPG8.7\\xa0(1.4M)Rate16. Dune: Part Two20242h 46mPG-138.8\\xa0(320K)Rate17. The Matrix19992h 16mR8.7\\xa0(2M)Rate18. Goodfellas19902h 25mR8.7\\xa0(1.3M)Rate19. One Flew Over the Cuckoo's Nest19752h 13mR8.7\\xa0(1.1M)Rate20. Se7en19952h 7mR8.6\\xa0(1.8M)Rate21. Interstellar20142h 49mPG-138.7\\xa0(2.1M)Rate22. It's a Wonderful Life19462h 10mPG8.6\\xa0(498K)Rate23. Seven Samurai19543h 27mNot Rated8.6\\xa0(366K)Rate24. The Silence of the Lambs19911h 58mR8.6\\xa0(1.5M)Rate25. Saving Private Ryan19982h 49mR8.6\\xa0(1.5M)Rate26. City of God20022h 10mR8.6\\xa0(799K)Rate27. Life Is Beautiful19971h 56mPG-138.6\\xa0(742K)Rate28. The Green Mile19993h 9mR8.6\\xa0(1.4M)Rate29. Terminator 2: Judgment Day19912h 17mR8.6\\xa0(1.2M)Rate30. Star Wars: Episode IV - A New Hope19772h 1mPG8.6\\xa0(1.4M)Rate31. Back to the Future19851h 56mPG8.5\\xa0(1.3M)Rate32. Spirited Away20012h 5mPG8.6\\xa0(846K)Rate33. The Pianist20022h 30mR8.5\\xa0(909K)Rate34. Parasite20192h 12mR8.5\\xa0(954K)Rate35. Psycho19601h 49mR8.5\\xa0(717K)Rate36. Spider-Man: Across the Spider-Verse20232h 20mPG8.6\\xa0(364K)Rate37. Gladiator20002h 35mR8.5\\xa0(1.6M)Rate38. The Lion King19941h 28mG8.5\\xa0(1.1M)Rate39. Léon: The Professional19941h 50mR8.5\\xa0(1.2M)Rate40. The Departed20062h 31mR8.5\\xa0(1.4M)Rate41. American History X19981h 59mR8.5\\xa0(1.2M)Rate42. Whiplash20141h 46mR8.5\\xa0(985K)Rate43. The Prestige20062h 10mPG-138.5\\xa0(1.4M)Rate44. Grave of the Fireflies19881h 29mNot Rated8.5\\xa0(309K)Rate45. Harakiri19622h 13mNot Rated8.6\\xa0(68K)Rate46. The Usual Suspects19951h 46mR8.5\\xa0(1.1M)Rate47. Casablanca19421h 42mPG8.5\\xa0(605K)Rate48. The Intouchables20111h 52mR8.5\\xa0(927K)Rate49. Cinema Paradiso19882h 54mPG8.5\\xa0(282K)Rate50. Modern Times19361h 27mG8.5\\xa0(259K)Rate51. Rear Window19541h 52mPG8.5\\xa0(521K)Rate52. Once Upon a Time in the West19682h 46mPG-138.5\\xa0(349K)Rate53. Alien19791h 57mR8.5\\xa0(948K)Rate54. City Lights19311h 27mG8.5\\xa0(196K)Rate55. Apocalypse Now19792h 27mR8.4\\xa0(709K)Rate56. Django Unchained20122h 45mR8.5\\xa0(1.7M)Rate57. Memento20001h 53mR8.4\\xa0(1.3M)Rate58. 12th Fail20232h 27m9.0\\xa0(109K)Rate59. WALL·E20081h 38mG8.4\\xa0(1.2M)Rate60. Raiders of the Lost Ark19811h 55mPG8.4\\xa0(1M)Rate61. The Lives of Others20062h 17mR8.4\\xa0(409K)Rate62. Sunset Blvd.19501h 50mPassed8.4\\xa0(236K)Rate63. Paths of Glory19571h 28mApproved8.4\\xa0(212K)Rate64. Avengers: Infinity War20182h 29mPG-138.4\\xa0(1.2M)Rate65. Spider-Man: Into the Spider-Verse20181h 57mPG8.4\\xa0(668K)Rate66. Witness for the Prosecution19571h 56mApproved8.4\\xa0(137K)Rate67. The Shining19802h 26mR8.4\\xa0(1.1M)Rate68. The Great Dictator19402h 5mG8.4\\xa0(237K)Rate69. Aliens19862h 17mR8.4\\xa0(761K)Rate70. Inglourious Basterds20092h 33mR8.4\\xa0(1.6M)Rate71. The Dark Knight Rises20122h 44mPG-138.4\\xa0(1.8M)Rate72. Dr. Strangelove or: How I Learned to Stop Worrying and Love the Bomb19641h 35mPG8.4\\xa0(517K)Rate73. American Beauty19992h 2mR8.3\\xa0(1.2M)Rate74. Oldboy20032hR8.3\\xa0(634K)Rate75. Coco20171h 45mPG8.4\\xa0(588K)Rate76. Amadeus19842h 40mPG8.4\\xa0(427K)Rate77. Toy Story19951h 21mG8.3\\xa0(1.1M)Rate78. Das Boot19812h 29m8.4\\xa0(264K)Rate79. Braveheart19952h 58mR8.3\\xa0(1.1M)Rate80. Avengers: Endgame20193h 1mPG-138.4\\xa0(1.3M)Rate81. Joker20192h 2mR8.4\\xa0(1.5M)Rate82. Princess Mononoke19972h 14mPG-138.3\\xa0(433K)Rate83. Good Will Hunting19972h 6mR8.3\\xa0(1.1M)Rate84. Your Name.20161h 46m8.4\\xa0(318K)Rate85. Once Upon a Time in America19843h 49mR8.3\\xa0(377K)Rate86. High and Low19632h 23mNot Rated8.4\\xa0(53K)Rate87. 3 Idiots20092h 50mPG-138.4\\xa0(433K)Rate88. Singin' in the Rain19521h 43mG8.3\\xa0(260K)Rate89. Capernaum20182h 6mR8.4\\xa0(105K)Rate90. Requiem for a Dream20001h 42mUnrated8.3\\xa0(897K)Rate91. Come and See19852h 22mNot Rated8.4\\xa0(97K)Rate92. Oppenheimer20233hR8.3\\xa0(711K)Rate93. Toy Story 320101h 43mG8.3\\xa0(891K)Rate94. Star Wars: Episode VI - Return of the Jedi19832h 11mPG8.3\\xa0(1.1M)Rate95. Eternal Sunshine of the Spotless Mind20041h 48mR8.3\\xa0(1.1M)Rate96. The Hunt20121h 55mR8.3\\xa0(363K)Rate97. 2001: A Space Odyssey19682h 29mG8.3\\xa0(718K)Rate98. Reservoir Dogs19921h 39mR8.3\\xa0(1.1M)Rate99. Ikiru19522h 23mNot Rated8.3\\xa0(87K)Rate100. Lawrence of Arabia19623h 38mApproved8.3\\xa0(314K)Rate101. The Apartment19602h 5mApproved8.3\\xa0(196K)Rate102. North by Northwest19592h 16mApproved8.3\\xa0(345K)Rate103. Citizen Kane19411h 59mPG8.3\\xa0(465K)Rate104. Incendies20102h 11mR8.3\\xa0(199K)Rate105. Vertigo19582h 8mPG8.3\\xa0(426K)Rate106. M19311h 39mPassed8.3\\xa0(168K)Rate107. Double Indemnity19441h 47mPassed8.3\\xa0(167K)Rate108. Scarface19832h 50mR8.3\\xa0(914K)Rate109. Amélie20012h 2mR8.3\\xa0(793K)Rate110. Full Metal Jacket19871h 56mR8.3\\xa0(789K)Rate111. Heat19952h 50mR8.3\\xa0(718K)Rate112. A Clockwork Orange19712h 16mX8.3\\xa0(880K)Rate113. Up20091h 36mPG8.3\\xa0(1.1M)Rate114. To Kill a Mockingbird19622h 9mApproved8.3\\xa0(332K)Rate115. The Sting19732h 9mPG8.3\\xa0(279K)Rate116. A Separation20112h 3mPG-138.3\\xa0(258K)Rate117. Indiana Jones and the Last Crusade19892h 7mPG-138.2\\xa0(810K)Rate118. Die Hard19882h 12mR8.2\\xa0(943K)Rate119. Metropolis19272h 33mNot Rated8.3\\xa0(185K)Rate120. Like Stars on Earth20072h 42mPG8.3\\xa0(206K)Rate121. Hamilton20202h 40mPG-138.3\\xa0(113K)Rate122. Snatch20001h 42mR8.2\\xa0(909K)Rate123. L.A. Confidential19972h 18mR8.2\\xa0(617K)Rate124. 191720191h 59mR8.2\\xa0(673K)Rate125. Bicycle Thieves19481h 29mNot Rated8.3\\xa0(175K)Rate126. Taxi Driver19761h 54mR8.2\\xa0(918K)Rate127. Downfall20042h 36mR8.2\\xa0(375K)Rate128. Dangal20162h 41mNot Rated8.3\\xa0(210K)Rate129. For a Few Dollars More19652h 12mR8.2\\xa0(274K)Rate130. Batman Begins20052h 20mPG-138.2\\xa0(1.6M)Rate131. The Wolf of Wall Street20133hR8.2\\xa0(1.6M)Rate132. Some Like It Hot19592h 1mPassed8.2\\xa0(283K)Rate133. Green Book20182h 10mPG-138.2\\xa0(568K)Rate134. The Kid19211h 8mPassed8.2\\xa0(135K)Rate135. The Father20201h 37mPG-138.2\\xa0(192K)Rate136. Judgment at Nuremberg19612h 59mApproved8.3\\xa0(85K)Rate137. All About Eve19502h 18mPassed8.2\\xa0(139K)Rate138. The Truman Show19981h 43mPG8.2\\xa0(1.2M)Rate139. Top Gun: Maverick20222h 10mPG-138.2\\xa0(692K)Rate140. Shutter Island20102h 18mR8.2\\xa0(1.5M)Rate141. There Will Be Blood20072h 38mR8.2\\xa0(640K)Rate142. Casino19952h 58mR8.2\\xa0(563K)Rate143. Ran19852h 40mR8.2\\xa0(136K)Rate144. Jurassic Park19932h 7mPG-138.2\\xa0(1.1M)Rate145. The Sixth Sense19991h 47mPG-138.2\\xa0(1M)Rate146. Pan's Labyrinth20061h 58mR8.2\\xa0(702K)Rate147. Unforgiven19922h 10mR8.2\\xa0(435K)Rate148. No Country for Old Men20072h 2mR8.2\\xa0(1.1M)Rate149. A Beautiful Mind20012h 15mPG-138.2\\xa0(985K)Rate150. The Thing19821h 49mR8.2\\xa0(465K)Rate151. The Treasure of the Sierra Madre19482h 6mPassed8.2\\xa0(132K)Rate152. Kill Bill: Vol. 120031h 51mR8.2\\xa0(1.2M)Rate153. Yojimbo19611h 50mNot Rated8.2\\xa0(131K)Rate154. Monty Python and the Holy Grail19751h 31mPG8.2\\xa0(569K)Rate155. The Great Escape19632h 52mApproved8.2\\xa0(258K)Rate156. Finding Nemo20031h 40mG8.2\\xa0(1.1M)Rate157. Rashomon19501h 28mNot Rated8.2\\xa0(180K)Rate158. Prisoners20132h 33mR8.2\\xa0(807K)Rate159. Howl's Moving Castle20041h 59mPG8.2\\xa0(447K)Rate160. The Elephant Man19802h 4mPG8.2\\xa0(258K)Rate161. Chinatown19742h 10mR8.1\\xa0(349K)Rate162. Dial M for Murder19541h 45mPG8.2\\xa0(188K)Rate163. Gone with the Wind19393h 58mPassed8.2\\xa0(334K)Rate164. V for Vendetta20052h 12mR8.2\\xa0(1.2M)Rate165. Lock, Stock and Two Smoking Barrels19981h 47mR8.1\\xa0(615K)Rate166. The Secret in Their Eyes20092h 9mR8.2\\xa0(222K)Rate167. Inside Out20151h 35mPG8.1\\xa0(783K)Rate168. Raging Bull19802h 9mR8.1\\xa0(379K)Rate169. Three Billboards Outside Ebbing, Missouri20171h 55mR8.1\\xa0(554K)Rate170. Trainspotting19961h 33mR8.1\\xa0(724K)Rate171. The Bridge on the River Kwai19572h 41mPG8.1\\xa0(233K)Rate172. Spider-Man: No Way Home20212h 28mPG-138.2\\xa0(875K)Rate173. Fargo19961h 38mR8.1\\xa0(725K)Rate174. Klaus20191h 36mPG8.2\\xa0(189K)Rate175. Catch Me If You Can20022h 21mPG-138.1\\xa0(1.1M)Rate176. Warrior20112h 20mPG-138.1\\xa0(497K)Rate177. Godzilla Minus One20232h 4mPG-138.3\\xa0(48K)Rate178. Gran Torino20081h 56mR8.1\\xa0(814K)Rate179. My Neighbor Totoro19881h 26mG8.1\\xa0(379K)Rate180. Million Dollar Baby20042h 12mPG-138.1\\xa0(721K)Rate181. Harry Potter and the Deathly Hallows: Part 220112h 10mPG-138.1\\xa0(946K)Rate182. Children of Heaven19971h 29mPG8.2\\xa0(81K)Rate183. 12 Years a Slave20132h 14mR8.1\\xa0(740K)Rate184. Blade Runner19821h 57mR8.1\\xa0(822K)Rate185. Before Sunrise19951h 41mR8.1\\xa0(338K)Rate186. Ben-Hur19593h 32mG8.1\\xa0(253K)Rate187. The Grand Budapest Hotel20141h 39mR8.1\\xa0(885K)Rate188. Barry Lyndon19753h 5mPG8.1\\xa0(183K)Rate189. Gone Girl20142h 29mR8.1\\xa0(1.1M)Rate190. Hacksaw Ridge20162h 19mR8.1\\xa0(592K)Rate191. The Gold Rush19251h 35mPassed8.1\\xa0(118K)Rate192. In the Name of the Father19932h 13mR8.1\\xa0(187K)Rate193. Memories of Murder20032h 12mNot Rated8.1\\xa0(215K)Rate194. Dead Poets Society19892h 8mPG8.1\\xa0(544K)Rate195. On the Waterfront19541h 48mApproved8.1\\xa0(164K)Rate196. The General19261h 18mPassed8.1\\xa0(98K)Rate197. The Deer Hunter19783h 3mR8.1\\xa0(362K)Rate198. Wild Tales20142h 2mR8.1\\xa0(216K)Rate199. Mad Max: Fury Road20152hR8.1\\xa0(1.1M)Rate200. Monsters, Inc.20011h 32mG8.1\\xa0(977K)Rate201. Sherlock Jr.192445mPassed8.2\\xa0(57K)Rate202. The Third Man19491h 33mApproved8.1\\xa0(182K)Rate203. Wild Strawberries19571h 31mNot Rated8.1\\xa0(115K)Rate204. The Wages of Fear19532h 11mNot Rated8.2\\xa0(66K)Rate205. Jaws19752h 4mPG8.1\\xa0(658K)Rate206. How to Train Your Dragon20101h 38mPG8.1\\xa0(798K)Rate207. Mary and Max20091h 32mNot Rated8.1\\xa0(187K)Rate208. Mr. Smith Goes to Washington19392h 9mPassed8.1\\xa0(121K)Rate209. Ratatouille20071h 51mG8.1\\xa0(822K)Rate210. Ford v Ferrari20192h 32mPG-138.1\\xa0(470K)Rate211. The Big Lebowski19981h 57mR8.1\\xa0(859K)Rate212. Tokyo Story19532h 16mNot Rated8.1\\xa0(68K)Rate213. Room20151h 58mR8.1\\xa0(449K)Rate214. The Seventh Seal19571h 36mNot Rated8.1\\xa0(198K)Rate215. Rocky19762hPG8.1\\xa0(627K)Rate216. Logan20172h 17mR8.1\\xa0(829K)Rate217. Spotlight20152h 9mR8.1\\xa0(501K)Rate218. Hotel Rwanda20042h 1mPG-138.1\\xa0(372K)Rate219. Platoon19862hR8.1\\xa0(439K)Rate220. The Terminator19841h 47mR8.1\\xa0(922K)Rate221. The Passion of Joan of Arc19281h 54mPassed8.1\\xa0(61K)Rate222. Before Sunset20041h 20mR8.1\\xa0(287K)Rate223. La haine19951h 38mNot Rated8.1\\xa0(196K)Rate224. The Best Years of Our Lives19462h 50mApproved8.1\\xa0(70K)Rate225. Pirates of the Caribbean: The Curse of the Black Pearl20032h 23mPG-138.1\\xa0(1.2M)Rate226. The Exorcist19732h 2mR8.1\\xa0(454K)Rate227. Rush20132h 3mR8.1\\xa0(512K)Rate228. Jai Bhim20212h 44mApproved8.7\\xa0(217K)Rate229. Network19762h 1mR8.1\\xa0(170K)Rate230. Stand by Me19861h 29mR8.1\\xa0(441K)Rate231. The Wizard of Oz19391h 42mG8.1\\xa0(428K)Rate232. The Incredibles20041h 55mPG8.0\\xa0(807K)Rate233. Hachi: A Dog's Tale20091h 33mG8.1\\xa0(311K)Rate234. The Handmaiden20162h 25mNot Rated8.1\\xa0(172K)Rate235. Into the Wild20072h 28mR8.1\\xa0(657K)Rate236. My Father and My Son20051h 52mNot Rated8.2\\xa0(92K)Rate237. The Sound of Music19652h 52mG8.1\\xa0(260K)Rate238. The Battle of Algiers19662h 1mNot Rated8.1\\xa0(66K)Rate239. The Grapes of Wrath19402h 9mPassed8.1\\xa0(100K)Rate240. To Be or Not to Be19421h 39mPassed8.1\\xa0(43K)Rate241. Groundhog Day19931h 41mPG8.0\\xa0(684K)Rate242. Amores Perros20002h 34mR8.1\\xa0(253K)Rate243. Rebecca19402h 10mApproved8.1\\xa0(146K)Rate244. Cool Hand Luke19672h 7mGP8.1\\xa0(188K)Rate245. The Iron Giant19991h 26mPG8.1\\xa0(227K)Rate246. The Help20112h 26mPG-138.1\\xa0(492K)Rate247. It Happened One Night19341h 45mPassed8.1\\xa0(112K)Rate248. Dances with Wolves19903h 1mPG-138.0\\xa0(290K)Rate249. Aladdin19921h 30mG8.0\\xa0(465K)Rate250. Andhadhun20182h 19mNot Rated8.2\\xa0(102K)RateThe Top Rated Movie list only includes feature films.Shorts, TV movies, and documentaries are not includedThe list is ranked by a formula which includes the number of ratings each movie received from users, and value of ratings received from regular usersTo be included on the list, a movie must receive ratings from at least 25000 usersLearn more about how list ranking is determined.More to exploreChartsTop Box Office (US)From the past weekendMost Popular MoviesAs determined by IMDb usersTop Rated English MoviesEnglish-language movies as rated by IMDb usersMost Popular TV ShowsAs determined by IMDb usersTop 250 TV ShowsTop 250 as rated by IMDb UsersLowest Rated MoviesBottom 100 as voted by IMDb usersMost Popular CelebsAs determined by IMDb usersMovie NewsRenée Zellweger Set to Return for New ‘Bridget Jones’ Movie4/9/2024by Borys KitThe Hollywood Reporter - Movie NewsNetflix Acquires Horror-Thriller ‘Don’t Move’\\xa0Produced by Sam Raimi\\xa0(Exclusive)4/9/2024by Matt DonnellyVariety - Film News‘Wish’ Hits 13.2 Million Views on Disney+ in Five Days4/8/2024by Selome HailuVariety - Film NewsBruce Springsteen Movie, With Jeremy Allen White in Talks to Star, Lands at 20th Century Studios4/8/2024by Katcy StephanVariety - Film NewsKevin Costner’s Western Epic ‘Horizon’ Sets Cannes Film Festival Premiere4/8/2024by Ellise ShaferVariety - Film NewsTop Rated Movies by GenreRecently viewedYou have no recently viewed pagesGet the IMDb appSign in for more accessSign in for more accessFollow IMDb on socialGet the IMDb appFor Android and iOSHelpSite IndexIMDbProBox Office MojoLicense IMDb DataPress RoomAdvertisingJobsConditions of UsePrivacy PolicyYour Ads Privacy ChoicesIMDb, an Amazon company© 1990-2024 by IMDb.com, Inc.Back to top\\n\\n\\n\\n\\n\\n\", metadata={'source': 'https://m.imdb.com/chart/top/', 'title': 'IMDb Top 250 Movies', 'description': 'As rated by regular IMDb voters.', 'language': 'en-US'})]"
            ]
          },
          "metadata": {},
          "execution_count": 5
        }
      ]
    },
    {
      "cell_type": "code",
      "source": [
        "from langchain_openai import OpenAIEmbeddings\n",
        "\n",
        "embeddings = OpenAIEmbeddings()"
      ],
      "metadata": {
        "id": "2tpJlkyhQPUR"
      },
      "id": "2tpJlkyhQPUR",
      "execution_count": 6,
      "outputs": []
    },
    {
      "cell_type": "code",
      "source": [
        "from langchain_community.vectorstores import FAISS\n"
      ],
      "metadata": {
        "id": "hsBR9YJzRDRB"
      },
      "id": "hsBR9YJzRDRB",
      "execution_count": 7,
      "outputs": []
    },
    {
      "cell_type": "code",
      "source": [
        "from langchain.text_splitter import RecursiveCharacterTextSplitter\n",
        "\n",
        "text_splitter = RecursiveCharacterTextSplitter()\n",
        "\n",
        "documents = text_splitter.split_documents(docs)"
      ],
      "metadata": {
        "id": "nuqSK1jURaoH"
      },
      "id": "nuqSK1jURaoH",
      "execution_count": 8,
      "outputs": []
    },
    {
      "cell_type": "code",
      "source": [
        "documents"
      ],
      "metadata": {
        "colab": {
          "base_uri": "https://localhost:8080/"
        },
        "id": "g1_sDTbPRy_c",
        "outputId": "e6fe4ae5-837f-47c5-98ef-da03eda6009b"
      },
      "id": "g1_sDTbPRy_c",
      "execution_count": 9,
      "outputs": [
        {
          "output_type": "execute_result",
          "data": {
            "text/plain": [
              "[Document(page_content='IMDb Top 250 Movies', metadata={'source': 'https://m.imdb.com/chart/top/', 'title': 'IMDb Top 250 Movies', 'description': 'As rated by regular IMDb voters.', 'language': 'en-US'}),\n",
              " Document(page_content=\"MenuMoviesRelease CalendarTop 250 MoviesMost Popular MoviesBrowse Movies by GenreTop Box OfficeShowtimes & TicketsMovie NewsIndia Movie SpotlightTV ShowsWhat's on TV & StreamingTop 250 TV ShowsMost Popular TV ShowsBrowse TV Shows by GenreTV NewsWatchWhat to WatchLatest TrailersIMDb OriginalsIMDb PicksIMDb SpotlightIMDb PodcastsAwards & EventsOscarsSXSW Film FestivalCannes Film FestivalSTARmeter AwardsAwards CentralFestival CentralAll EventsCelebsBorn TodayMost Popular CelebsCelebrity NewsCommunityHelp CenterContributor ZonePollsFor Industry ProfessionalsLanguageEnglish (United States)LanguageFully supportedEnglish (United States)Partially supportedFrançais (Canada)Français (France)Deutsch (Deutschland)हिंदी (भारत)Italiano (Italia)Português (Brasil)Español (España)Español (México)AllAllTitlesTV EpisodesCelebsCompaniesKeywordsAdvanced SearchWatchlistSign InSign InNew Customer?\\xa0Create accountENFully supportedEnglish (United States)Partially supportedFrançais (Canada)Français (France)Deutsch (Deutschland)हिंदी (भारत)Italiano (Italia)Português (Brasil)Español (España)Español (México)Use appIMDb ChartsShareIMDb Top 250 MoviesAs rated by regular IMDb voters.250 TitlesSort byRankingRankingIMDb ratingRelease dateNumber of ratingsAlphabeticalPopularityRuntime1. The Shawshank Redemption19942h 22mR9.3\\xa0(2.9M)Rate2. The Godfather19722h 55mR9.2\\xa0(2M)Rate3. The Dark Knight20082h 32mPG-139.0\\xa0(2.9M)Rate4. The Godfather Part II19743h 22mR9.0\\xa0(1.4M)Rate5. 12 Angry Men19571h 36mApproved9.0\\xa0(862K)Rate6. Schindler's List19933h 15mR9.0\\xa0(1.4M)Rate7. The Lord of the Rings: The Return of the King20033h 21mPG-139.0\\xa0(2M)Rate8. Pulp Fiction19942h 34mR8.9\\xa0(2.2M)Rate9. The Lord of the Rings: The Fellowship of the Ring20012h 58mPG-138.9\\xa0(2M)Rate10. The Good, the Bad and the Ugly19662h 58mApproved8.8\\xa0(809K)Rate11. Forrest Gump19942h 22mPG-138.8\\xa0(2.3M)Rate12. The Lord of the Rings: The Two Towers20022h 59mPG-138.8\\xa0(1.8M)Rate13. Fight Club19992h 19mR8.8\\xa0(2.3M)Rate14. Inception20102h 28mPG-138.8\\xa0(2.5M)Rate15. Star Wars: Episode V - The Empire Strikes Back19802h 4mPG8.7\\xa0(1.4M)Rate16. Dune: Part Two20242h 46mPG-138.8\\xa0(320K)Rate17. The Matrix19992h 16mR8.7\\xa0(2M)Rate18. Goodfellas19902h 25mR8.7\\xa0(1.3M)Rate19. One Flew Over the Cuckoo's Nest19752h 13mR8.7\\xa0(1.1M)Rate20. Se7en19952h 7mR8.6\\xa0(1.8M)Rate21. Interstellar20142h 49mPG-138.7\\xa0(2.1M)Rate22. It's a Wonderful Life19462h 10mPG8.6\\xa0(498K)Rate23. Seven Samurai19543h 27mNot Rated8.6\\xa0(366K)Rate24. The Silence of the Lambs19911h 58mR8.6\\xa0(1.5M)Rate25. Saving Private Ryan19982h 49mR8.6\\xa0(1.5M)Rate26. City of God20022h 10mR8.6\\xa0(799K)Rate27. Life Is Beautiful19971h 56mPG-138.6\\xa0(742K)Rate28. The Green Mile19993h 9mR8.6\\xa0(1.4M)Rate29. Terminator 2: Judgment Day19912h 17mR8.6\\xa0(1.2M)Rate30. Star Wars: Episode IV - A New Hope19772h 1mPG8.6\\xa0(1.4M)Rate31. Back to the Future19851h 56mPG8.5\\xa0(1.3M)Rate32. Spirited Away20012h 5mPG8.6\\xa0(846K)Rate33. The Pianist20022h 30mR8.5\\xa0(909K)Rate34. Parasite20192h 12mR8.5\\xa0(954K)Rate35. Psycho19601h 49mR8.5\\xa0(717K)Rate36. Spider-Man: Across the Spider-Verse20232h 20mPG8.6\\xa0(364K)Rate37. Gladiator20002h 35mR8.5\\xa0(1.6M)Rate38. The Lion King19941h 28mG8.5\\xa0(1.1M)Rate39. Léon: The Professional19941h 50mR8.5\\xa0(1.2M)Rate40. The Departed20062h 31mR8.5\\xa0(1.4M)Rate41. American History X19981h 59mR8.5\\xa0(1.2M)Rate42. Whiplash20141h 46mR8.5\\xa0(985K)Rate43. The Prestige20062h 10mPG-138.5\\xa0(1.4M)Rate44. Grave of the Fireflies19881h 29mNot Rated8.5\\xa0(309K)Rate45. Harakiri19622h 13mNot Rated8.6\\xa0(68K)Rate46. The Usual Suspects19951h 46mR8.5\\xa0(1.1M)Rate47. Casablanca19421h 42mPG8.5\\xa0(605K)Rate48. The Intouchables20111h 52mR8.5\\xa0(927K)Rate49. Cinema Paradiso19882h 54mPG8.5\\xa0(282K)Rate50. Modern Times19361h 27mG8.5\\xa0(259K)Rate51. Rear Window19541h 52mPG8.5\\xa0(521K)Rate52. Once Upon a Time in the West19682h 46mPG-138.5\\xa0(349K)Rate53. Alien19791h 57mR8.5\\xa0(948K)Rate54. City Lights19311h 27mG8.5\\xa0(196K)Rate55. Apocalypse Now19792h 27mR8.4\\xa0(709K)Rate56. Django Unchained20122h 45mR8.5\\xa0(1.7M)Rate57. Memento20001h 53mR8.4\\xa0(1.3M)Rate58. 12th Fail20232h\", metadata={'source': 'https://m.imdb.com/chart/top/', 'title': 'IMDb Top 250 Movies', 'description': 'As rated by regular IMDb voters.', 'language': 'en-US'}),\n",
              " Document(page_content=\"City Lights19311h 27mG8.5\\xa0(196K)Rate55. Apocalypse Now19792h 27mR8.4\\xa0(709K)Rate56. Django Unchained20122h 45mR8.5\\xa0(1.7M)Rate57. Memento20001h 53mR8.4\\xa0(1.3M)Rate58. 12th Fail20232h 27m9.0\\xa0(109K)Rate59. WALL·E20081h 38mG8.4\\xa0(1.2M)Rate60. Raiders of the Lost Ark19811h 55mPG8.4\\xa0(1M)Rate61. The Lives of Others20062h 17mR8.4\\xa0(409K)Rate62. Sunset Blvd.19501h 50mPassed8.4\\xa0(236K)Rate63. Paths of Glory19571h 28mApproved8.4\\xa0(212K)Rate64. Avengers: Infinity War20182h 29mPG-138.4\\xa0(1.2M)Rate65. Spider-Man: Into the Spider-Verse20181h 57mPG8.4\\xa0(668K)Rate66. Witness for the Prosecution19571h 56mApproved8.4\\xa0(137K)Rate67. The Shining19802h 26mR8.4\\xa0(1.1M)Rate68. The Great Dictator19402h 5mG8.4\\xa0(237K)Rate69. Aliens19862h 17mR8.4\\xa0(761K)Rate70. Inglourious Basterds20092h 33mR8.4\\xa0(1.6M)Rate71. The Dark Knight Rises20122h 44mPG-138.4\\xa0(1.8M)Rate72. Dr. Strangelove or: How I Learned to Stop Worrying and Love the Bomb19641h 35mPG8.4\\xa0(517K)Rate73. American Beauty19992h 2mR8.3\\xa0(1.2M)Rate74. Oldboy20032hR8.3\\xa0(634K)Rate75. Coco20171h 45mPG8.4\\xa0(588K)Rate76. Amadeus19842h 40mPG8.4\\xa0(427K)Rate77. Toy Story19951h 21mG8.3\\xa0(1.1M)Rate78. Das Boot19812h 29m8.4\\xa0(264K)Rate79. Braveheart19952h 58mR8.3\\xa0(1.1M)Rate80. Avengers: Endgame20193h 1mPG-138.4\\xa0(1.3M)Rate81. Joker20192h 2mR8.4\\xa0(1.5M)Rate82. Princess Mononoke19972h 14mPG-138.3\\xa0(433K)Rate83. Good Will Hunting19972h 6mR8.3\\xa0(1.1M)Rate84. Your Name.20161h 46m8.4\\xa0(318K)Rate85. Once Upon a Time in America19843h 49mR8.3\\xa0(377K)Rate86. High and Low19632h 23mNot Rated8.4\\xa0(53K)Rate87. 3 Idiots20092h 50mPG-138.4\\xa0(433K)Rate88. Singin' in the Rain19521h 43mG8.3\\xa0(260K)Rate89. Capernaum20182h 6mR8.4\\xa0(105K)Rate90. Requiem for a Dream20001h 42mUnrated8.3\\xa0(897K)Rate91. Come and See19852h 22mNot Rated8.4\\xa0(97K)Rate92. Oppenheimer20233hR8.3\\xa0(711K)Rate93. Toy Story 320101h 43mG8.3\\xa0(891K)Rate94. Star Wars: Episode VI - Return of the Jedi19832h 11mPG8.3\\xa0(1.1M)Rate95. Eternal Sunshine of the Spotless Mind20041h 48mR8.3\\xa0(1.1M)Rate96. The Hunt20121h 55mR8.3\\xa0(363K)Rate97. 2001: A Space Odyssey19682h 29mG8.3\\xa0(718K)Rate98. Reservoir Dogs19921h 39mR8.3\\xa0(1.1M)Rate99. Ikiru19522h 23mNot Rated8.3\\xa0(87K)Rate100. Lawrence of Arabia19623h 38mApproved8.3\\xa0(314K)Rate101. The Apartment19602h 5mApproved8.3\\xa0(196K)Rate102. North by Northwest19592h 16mApproved8.3\\xa0(345K)Rate103. Citizen Kane19411h 59mPG8.3\\xa0(465K)Rate104. Incendies20102h 11mR8.3\\xa0(199K)Rate105. Vertigo19582h 8mPG8.3\\xa0(426K)Rate106. M19311h 39mPassed8.3\\xa0(168K)Rate107. Double Indemnity19441h 47mPassed8.3\\xa0(167K)Rate108. Scarface19832h 50mR8.3\\xa0(914K)Rate109. Amélie20012h 2mR8.3\\xa0(793K)Rate110. Full Metal Jacket19871h 56mR8.3\\xa0(789K)Rate111. Heat19952h 50mR8.3\\xa0(718K)Rate112. A Clockwork Orange19712h 16mX8.3\\xa0(880K)Rate113. Up20091h 36mPG8.3\\xa0(1.1M)Rate114. To Kill a Mockingbird19622h 9mApproved8.3\\xa0(332K)Rate115. The Sting19732h 9mPG8.3\\xa0(279K)Rate116. A Separation20112h 3mPG-138.3\\xa0(258K)Rate117. Indiana Jones and the Last Crusade19892h 7mPG-138.2\\xa0(810K)Rate118. Die Hard19882h 12mR8.2\\xa0(943K)Rate119. Metropolis19272h 33mNot Rated8.3\\xa0(185K)Rate120. Like Stars on Earth20072h 42mPG8.3\\xa0(206K)Rate121. Hamilton20202h 40mPG-138.3\\xa0(113K)Rate122. Snatch20001h 42mR8.2\\xa0(909K)Rate123. L.A. Confidential19972h 18mR8.2\\xa0(617K)Rate124. 191720191h 59mR8.2\\xa0(673K)Rate125. Bicycle Thieves19481h 29mNot Rated8.3\\xa0(175K)Rate126. Taxi Driver19761h 54mR8.2\\xa0(918K)Rate127. Downfall20042h 36mR8.2\\xa0(375K)Rate128. Dangal20162h 41mNot Rated8.3\\xa0(210K)Rate129. For a Few Dollars More19652h 12mR8.2\\xa0(274K)Rate130. Batman Begins20052h 20mPG-138.2\\xa0(1.6M)Rate131. The Wolf of Wall Street20133hR8.2\\xa0(1.6M)Rate132. Some Like It Hot19592h 1mPassed8.2\\xa0(283K)Rate133. Green Book20182h 10mPG-138.2\\xa0(568K)Rate134. The Kid19211h 8mPassed8.2\\xa0(135K)Rate135. The Father20201h 37mPG-138.2\\xa0(192K)Rate136. Judgment at Nuremberg19612h 59mApproved8.3\\xa0(85K)Rate137. All About Eve19502h 18mPassed8.2\\xa0(139K)Rate138. The Truman Show19981h 43mPG8.2\\xa0(1.2M)Rate139. Top Gun: Maverick20222h 10mPG-138.2\\xa0(692K)Rate140. Shutter Island20102h 18mR8.2\\xa0(1.5M)Rate141. There Will Be\", metadata={'source': 'https://m.imdb.com/chart/top/', 'title': 'IMDb Top 250 Movies', 'description': 'As rated by regular IMDb voters.', 'language': 'en-US'}),\n",
              " Document(page_content=\"About Eve19502h 18mPassed8.2\\xa0(139K)Rate138. The Truman Show19981h 43mPG8.2\\xa0(1.2M)Rate139. Top Gun: Maverick20222h 10mPG-138.2\\xa0(692K)Rate140. Shutter Island20102h 18mR8.2\\xa0(1.5M)Rate141. There Will Be Blood20072h 38mR8.2\\xa0(640K)Rate142. Casino19952h 58mR8.2\\xa0(563K)Rate143. Ran19852h 40mR8.2\\xa0(136K)Rate144. Jurassic Park19932h 7mPG-138.2\\xa0(1.1M)Rate145. The Sixth Sense19991h 47mPG-138.2\\xa0(1M)Rate146. Pan's Labyrinth20061h 58mR8.2\\xa0(702K)Rate147. Unforgiven19922h 10mR8.2\\xa0(435K)Rate148. No Country for Old Men20072h 2mR8.2\\xa0(1.1M)Rate149. A Beautiful Mind20012h 15mPG-138.2\\xa0(985K)Rate150. The Thing19821h 49mR8.2\\xa0(465K)Rate151. The Treasure of the Sierra Madre19482h 6mPassed8.2\\xa0(132K)Rate152. Kill Bill: Vol. 120031h 51mR8.2\\xa0(1.2M)Rate153. Yojimbo19611h 50mNot Rated8.2\\xa0(131K)Rate154. Monty Python and the Holy Grail19751h 31mPG8.2\\xa0(569K)Rate155. The Great Escape19632h 52mApproved8.2\\xa0(258K)Rate156. Finding Nemo20031h 40mG8.2\\xa0(1.1M)Rate157. Rashomon19501h 28mNot Rated8.2\\xa0(180K)Rate158. Prisoners20132h 33mR8.2\\xa0(807K)Rate159. Howl's Moving Castle20041h 59mPG8.2\\xa0(447K)Rate160. The Elephant Man19802h 4mPG8.2\\xa0(258K)Rate161. Chinatown19742h 10mR8.1\\xa0(349K)Rate162. Dial M for Murder19541h 45mPG8.2\\xa0(188K)Rate163. Gone with the Wind19393h 58mPassed8.2\\xa0(334K)Rate164. V for Vendetta20052h 12mR8.2\\xa0(1.2M)Rate165. Lock, Stock and Two Smoking Barrels19981h 47mR8.1\\xa0(615K)Rate166. The Secret in Their Eyes20092h 9mR8.2\\xa0(222K)Rate167. Inside Out20151h 35mPG8.1\\xa0(783K)Rate168. Raging Bull19802h 9mR8.1\\xa0(379K)Rate169. Three Billboards Outside Ebbing, Missouri20171h 55mR8.1\\xa0(554K)Rate170. Trainspotting19961h 33mR8.1\\xa0(724K)Rate171. The Bridge on the River Kwai19572h 41mPG8.1\\xa0(233K)Rate172. Spider-Man: No Way Home20212h 28mPG-138.2\\xa0(875K)Rate173. Fargo19961h 38mR8.1\\xa0(725K)Rate174. Klaus20191h 36mPG8.2\\xa0(189K)Rate175. Catch Me If You Can20022h 21mPG-138.1\\xa0(1.1M)Rate176. Warrior20112h 20mPG-138.1\\xa0(497K)Rate177. Godzilla Minus One20232h 4mPG-138.3\\xa0(48K)Rate178. Gran Torino20081h 56mR8.1\\xa0(814K)Rate179. My Neighbor Totoro19881h 26mG8.1\\xa0(379K)Rate180. Million Dollar Baby20042h 12mPG-138.1\\xa0(721K)Rate181. Harry Potter and the Deathly Hallows: Part 220112h 10mPG-138.1\\xa0(946K)Rate182. Children of Heaven19971h 29mPG8.2\\xa0(81K)Rate183. 12 Years a Slave20132h 14mR8.1\\xa0(740K)Rate184. Blade Runner19821h 57mR8.1\\xa0(822K)Rate185. Before Sunrise19951h 41mR8.1\\xa0(338K)Rate186. Ben-Hur19593h 32mG8.1\\xa0(253K)Rate187. The Grand Budapest Hotel20141h 39mR8.1\\xa0(885K)Rate188. Barry Lyndon19753h 5mPG8.1\\xa0(183K)Rate189. Gone Girl20142h 29mR8.1\\xa0(1.1M)Rate190. Hacksaw Ridge20162h 19mR8.1\\xa0(592K)Rate191. The Gold Rush19251h 35mPassed8.1\\xa0(118K)Rate192. In the Name of the Father19932h 13mR8.1\\xa0(187K)Rate193. Memories of Murder20032h 12mNot Rated8.1\\xa0(215K)Rate194. Dead Poets Society19892h 8mPG8.1\\xa0(544K)Rate195. On the Waterfront19541h 48mApproved8.1\\xa0(164K)Rate196. The General19261h 18mPassed8.1\\xa0(98K)Rate197. The Deer Hunter19783h 3mR8.1\\xa0(362K)Rate198. Wild Tales20142h 2mR8.1\\xa0(216K)Rate199. Mad Max: Fury Road20152hR8.1\\xa0(1.1M)Rate200. Monsters, Inc.20011h 32mG8.1\\xa0(977K)Rate201. Sherlock Jr.192445mPassed8.2\\xa0(57K)Rate202. The Third Man19491h 33mApproved8.1\\xa0(182K)Rate203. Wild Strawberries19571h 31mNot Rated8.1\\xa0(115K)Rate204. The Wages of Fear19532h 11mNot Rated8.2\\xa0(66K)Rate205. Jaws19752h 4mPG8.1\\xa0(658K)Rate206. How to Train Your Dragon20101h 38mPG8.1\\xa0(798K)Rate207. Mary and Max20091h 32mNot Rated8.1\\xa0(187K)Rate208. Mr. Smith Goes to Washington19392h 9mPassed8.1\\xa0(121K)Rate209. Ratatouille20071h 51mG8.1\\xa0(822K)Rate210. Ford v Ferrari20192h 32mPG-138.1\\xa0(470K)Rate211. The Big Lebowski19981h 57mR8.1\\xa0(859K)Rate212. Tokyo Story19532h 16mNot Rated8.1\\xa0(68K)Rate213. Room20151h 58mR8.1\\xa0(449K)Rate214. The Seventh Seal19571h 36mNot Rated8.1\\xa0(198K)Rate215. Rocky19762hPG8.1\\xa0(627K)Rate216. Logan20172h 17mR8.1\\xa0(829K)Rate217. Spotlight20152h 9mR8.1\\xa0(501K)Rate218. Hotel Rwanda20042h 1mPG-138.1\\xa0(372K)Rate219. Platoon19862hR8.1\\xa0(439K)Rate220. The Terminator19841h 47mR8.1\\xa0(922K)Rate221. The Passion of Joan of Arc19281h 54mPassed8.1\\xa0(61K)Rate222.\", metadata={'source': 'https://m.imdb.com/chart/top/', 'title': 'IMDb Top 250 Movies', 'description': 'As rated by regular IMDb voters.', 'language': 'en-US'}),\n",
              " Document(page_content=\"Hotel Rwanda20042h 1mPG-138.1\\xa0(372K)Rate219. Platoon19862hR8.1\\xa0(439K)Rate220. The Terminator19841h 47mR8.1\\xa0(922K)Rate221. The Passion of Joan of Arc19281h 54mPassed8.1\\xa0(61K)Rate222. Before Sunset20041h 20mR8.1\\xa0(287K)Rate223. La haine19951h 38mNot Rated8.1\\xa0(196K)Rate224. The Best Years of Our Lives19462h 50mApproved8.1\\xa0(70K)Rate225. Pirates of the Caribbean: The Curse of the Black Pearl20032h 23mPG-138.1\\xa0(1.2M)Rate226. The Exorcist19732h 2mR8.1\\xa0(454K)Rate227. Rush20132h 3mR8.1\\xa0(512K)Rate228. Jai Bhim20212h 44mApproved8.7\\xa0(217K)Rate229. Network19762h 1mR8.1\\xa0(170K)Rate230. Stand by Me19861h 29mR8.1\\xa0(441K)Rate231. The Wizard of Oz19391h 42mG8.1\\xa0(428K)Rate232. The Incredibles20041h 55mPG8.0\\xa0(807K)Rate233. Hachi: A Dog's Tale20091h 33mG8.1\\xa0(311K)Rate234. The Handmaiden20162h 25mNot Rated8.1\\xa0(172K)Rate235. Into the Wild20072h 28mR8.1\\xa0(657K)Rate236. My Father and My Son20051h 52mNot Rated8.2\\xa0(92K)Rate237. The Sound of Music19652h 52mG8.1\\xa0(260K)Rate238. The Battle of Algiers19662h 1mNot Rated8.1\\xa0(66K)Rate239. The Grapes of Wrath19402h 9mPassed8.1\\xa0(100K)Rate240. To Be or Not to Be19421h 39mPassed8.1\\xa0(43K)Rate241. Groundhog Day19931h 41mPG8.0\\xa0(684K)Rate242. Amores Perros20002h 34mR8.1\\xa0(253K)Rate243. Rebecca19402h 10mApproved8.1\\xa0(146K)Rate244. Cool Hand Luke19672h 7mGP8.1\\xa0(188K)Rate245. The Iron Giant19991h 26mPG8.1\\xa0(227K)Rate246. The Help20112h 26mPG-138.1\\xa0(492K)Rate247. It Happened One Night19341h 45mPassed8.1\\xa0(112K)Rate248. Dances with Wolves19903h 1mPG-138.0\\xa0(290K)Rate249. Aladdin19921h 30mG8.0\\xa0(465K)Rate250. Andhadhun20182h 19mNot Rated8.2\\xa0(102K)RateThe Top Rated Movie list only includes feature films.Shorts, TV movies, and documentaries are not includedThe list is ranked by a formula which includes the number of ratings each movie received from users, and value of ratings received from regular usersTo be included on the list, a movie must receive ratings from at least 25000 usersLearn more about how list ranking is determined.More to exploreChartsTop Box Office (US)From the past weekendMost Popular MoviesAs determined by IMDb usersTop Rated English MoviesEnglish-language movies as rated by IMDb usersMost Popular TV ShowsAs determined by IMDb usersTop 250 TV ShowsTop 250 as rated by IMDb UsersLowest Rated MoviesBottom 100 as voted by IMDb usersMost Popular CelebsAs determined by IMDb usersMovie NewsRenée Zellweger Set to Return for New ‘Bridget Jones’ Movie4/9/2024by Borys KitThe Hollywood Reporter - Movie NewsNetflix Acquires Horror-Thriller ‘Don’t Move’\\xa0Produced by Sam Raimi\\xa0(Exclusive)4/9/2024by Matt DonnellyVariety - Film News‘Wish’ Hits 13.2 Million Views on Disney+ in Five Days4/8/2024by Selome HailuVariety - Film NewsBruce Springsteen Movie, With Jeremy Allen White in Talks to Star, Lands at 20th Century Studios4/8/2024by Katcy StephanVariety - Film NewsKevin Costner’s Western Epic ‘Horizon’ Sets Cannes Film Festival Premiere4/8/2024by Ellise ShaferVariety - Film NewsTop Rated Movies by GenreRecently viewedYou have no recently viewed pagesGet the IMDb appSign in for more accessSign in for more accessFollow IMDb on socialGet the IMDb appFor Android and iOSHelpSite IndexIMDbProBox Office MojoLicense IMDb DataPress RoomAdvertisingJobsConditions of UsePrivacy PolicyYour Ads Privacy ChoicesIMDb, an Amazon company© 1990-2024 by IMDb.com, Inc.Back to top\", metadata={'source': 'https://m.imdb.com/chart/top/', 'title': 'IMDb Top 250 Movies', 'description': 'As rated by regular IMDb voters.', 'language': 'en-US'})]"
            ]
          },
          "metadata": {},
          "execution_count": 9
        }
      ]
    },
    {
      "cell_type": "code",
      "source": [
        "vector = FAISS.from_documents(documents, embeddings)"
      ],
      "metadata": {
        "id": "Qd6FUj9OhGJ6"
      },
      "id": "Qd6FUj9OhGJ6",
      "execution_count": 11,
      "outputs": []
    },
    {
      "cell_type": "code",
      "source": [
        "from langchain_core.prompts import ChatPromptTemplate\n"
      ],
      "metadata": {
        "id": "Xyujt9IZiQVI"
      },
      "id": "Xyujt9IZiQVI",
      "execution_count": 13,
      "outputs": []
    },
    {
      "cell_type": "code",
      "source": [
        "prompt = ChatPromptTemplate.from_template(\n",
        "    \"\"\"\n",
        "    Answer the following question based only on the provided context:\n",
        "    <context>\n",
        "    {context}\n",
        "    </context>\n",
        "    Question: {input}\n",
        "    \"\"\"\n",
        ")"
      ],
      "metadata": {
        "id": "JOyNKaq_iK9h"
      },
      "id": "JOyNKaq_iK9h",
      "execution_count": 14,
      "outputs": []
    },
    {
      "cell_type": "code",
      "source": [
        "from langchain_openai import ChatOpenAI\n",
        "\n",
        "model = ChatOpenAI()"
      ],
      "metadata": {
        "id": "Be4umarnjQZD"
      },
      "id": "Be4umarnjQZD",
      "execution_count": 16,
      "outputs": []
    },
    {
      "cell_type": "code",
      "source": [
        "from langchain.chains.combine_documents import create_stuff_documents_chain\n",
        "document_chain = create_stuff_documents_chain(model, prompt)\n"
      ],
      "metadata": {
        "id": "cNKBuxMaiR74"
      },
      "id": "cNKBuxMaiR74",
      "execution_count": 17,
      "outputs": []
    },
    {
      "cell_type": "code",
      "source": [
        "from langchain.chains import create_retrieval_chain\n",
        "\n",
        "retriever = vector.as_retriever()\n",
        "\n",
        "retrieval_chain = create_retrieval_chain(retriever, document_chain)"
      ],
      "metadata": {
        "id": "AJxHF5xnn5tG"
      },
      "id": "AJxHF5xnn5tG",
      "execution_count": 18,
      "outputs": []
    },
    {
      "cell_type": "code",
      "source": [
        "response = retrieval_chain.invoke(\n",
        "    {\n",
        "        \"input\":\"Which movie has the highest IMDB score?\"\n",
        "    }\n",
        ")\n",
        "response"
      ],
      "metadata": {
        "colab": {
          "base_uri": "https://localhost:8080/"
        },
        "id": "YNDvNJLuoSQN",
        "outputId": "35fdbe02-d2a2-4bdb-864c-f3b0878b65af"
      },
      "id": "YNDvNJLuoSQN",
      "execution_count": 20,
      "outputs": [
        {
          "output_type": "execute_result",
          "data": {
            "text/plain": [
              "{'input': 'Which movie has the highest IMDB score?',\n",
              " 'context': [Document(page_content='IMDb Top 250 Movies', metadata={'source': 'https://m.imdb.com/chart/top/', 'title': 'IMDb Top 250 Movies', 'description': 'As rated by regular IMDb voters.', 'language': 'en-US'}),\n",
              "  Document(page_content=\"Hotel Rwanda20042h 1mPG-138.1\\xa0(372K)Rate219. Platoon19862hR8.1\\xa0(439K)Rate220. The Terminator19841h 47mR8.1\\xa0(922K)Rate221. The Passion of Joan of Arc19281h 54mPassed8.1\\xa0(61K)Rate222. Before Sunset20041h 20mR8.1\\xa0(287K)Rate223. La haine19951h 38mNot Rated8.1\\xa0(196K)Rate224. The Best Years of Our Lives19462h 50mApproved8.1\\xa0(70K)Rate225. Pirates of the Caribbean: The Curse of the Black Pearl20032h 23mPG-138.1\\xa0(1.2M)Rate226. The Exorcist19732h 2mR8.1\\xa0(454K)Rate227. Rush20132h 3mR8.1\\xa0(512K)Rate228. Jai Bhim20212h 44mApproved8.7\\xa0(217K)Rate229. Network19762h 1mR8.1\\xa0(170K)Rate230. Stand by Me19861h 29mR8.1\\xa0(441K)Rate231. The Wizard of Oz19391h 42mG8.1\\xa0(428K)Rate232. The Incredibles20041h 55mPG8.0\\xa0(807K)Rate233. Hachi: A Dog's Tale20091h 33mG8.1\\xa0(311K)Rate234. The Handmaiden20162h 25mNot Rated8.1\\xa0(172K)Rate235. Into the Wild20072h 28mR8.1\\xa0(657K)Rate236. My Father and My Son20051h 52mNot Rated8.2\\xa0(92K)Rate237. The Sound of Music19652h 52mG8.1\\xa0(260K)Rate238. The Battle of Algiers19662h 1mNot Rated8.1\\xa0(66K)Rate239. The Grapes of Wrath19402h 9mPassed8.1\\xa0(100K)Rate240. To Be or Not to Be19421h 39mPassed8.1\\xa0(43K)Rate241. Groundhog Day19931h 41mPG8.0\\xa0(684K)Rate242. Amores Perros20002h 34mR8.1\\xa0(253K)Rate243. Rebecca19402h 10mApproved8.1\\xa0(146K)Rate244. Cool Hand Luke19672h 7mGP8.1\\xa0(188K)Rate245. The Iron Giant19991h 26mPG8.1\\xa0(227K)Rate246. The Help20112h 26mPG-138.1\\xa0(492K)Rate247. It Happened One Night19341h 45mPassed8.1\\xa0(112K)Rate248. Dances with Wolves19903h 1mPG-138.0\\xa0(290K)Rate249. Aladdin19921h 30mG8.0\\xa0(465K)Rate250. Andhadhun20182h 19mNot Rated8.2\\xa0(102K)RateThe Top Rated Movie list only includes feature films.Shorts, TV movies, and documentaries are not includedThe list is ranked by a formula which includes the number of ratings each movie received from users, and value of ratings received from regular usersTo be included on the list, a movie must receive ratings from at least 25000 usersLearn more about how list ranking is determined.More to exploreChartsTop Box Office (US)From the past weekendMost Popular MoviesAs determined by IMDb usersTop Rated English MoviesEnglish-language movies as rated by IMDb usersMost Popular TV ShowsAs determined by IMDb usersTop 250 TV ShowsTop 250 as rated by IMDb UsersLowest Rated MoviesBottom 100 as voted by IMDb usersMost Popular CelebsAs determined by IMDb usersMovie NewsRenée Zellweger Set to Return for New ‘Bridget Jones’ Movie4/9/2024by Borys KitThe Hollywood Reporter - Movie NewsNetflix Acquires Horror-Thriller ‘Don’t Move’\\xa0Produced by Sam Raimi\\xa0(Exclusive)4/9/2024by Matt DonnellyVariety - Film News‘Wish’ Hits 13.2 Million Views on Disney+ in Five Days4/8/2024by Selome HailuVariety - Film NewsBruce Springsteen Movie, With Jeremy Allen White in Talks to Star, Lands at 20th Century Studios4/8/2024by Katcy StephanVariety - Film NewsKevin Costner’s Western Epic ‘Horizon’ Sets Cannes Film Festival Premiere4/8/2024by Ellise ShaferVariety - Film NewsTop Rated Movies by GenreRecently viewedYou have no recently viewed pagesGet the IMDb appSign in for more accessSign in for more accessFollow IMDb on socialGet the IMDb appFor Android and iOSHelpSite IndexIMDbProBox Office MojoLicense IMDb DataPress RoomAdvertisingJobsConditions of UsePrivacy PolicyYour Ads Privacy ChoicesIMDb, an Amazon company© 1990-2024 by IMDb.com, Inc.Back to top\", metadata={'source': 'https://m.imdb.com/chart/top/', 'title': 'IMDb Top 250 Movies', 'description': 'As rated by regular IMDb voters.', 'language': 'en-US'}),\n",
              "  Document(page_content=\"MenuMoviesRelease CalendarTop 250 MoviesMost Popular MoviesBrowse Movies by GenreTop Box OfficeShowtimes & TicketsMovie NewsIndia Movie SpotlightTV ShowsWhat's on TV & StreamingTop 250 TV ShowsMost Popular TV ShowsBrowse TV Shows by GenreTV NewsWatchWhat to WatchLatest TrailersIMDb OriginalsIMDb PicksIMDb SpotlightIMDb PodcastsAwards & EventsOscarsSXSW Film FestivalCannes Film FestivalSTARmeter AwardsAwards CentralFestival CentralAll EventsCelebsBorn TodayMost Popular CelebsCelebrity NewsCommunityHelp CenterContributor ZonePollsFor Industry ProfessionalsLanguageEnglish (United States)LanguageFully supportedEnglish (United States)Partially supportedFrançais (Canada)Français (France)Deutsch (Deutschland)हिंदी (भारत)Italiano (Italia)Português (Brasil)Español (España)Español (México)AllAllTitlesTV EpisodesCelebsCompaniesKeywordsAdvanced SearchWatchlistSign InSign InNew Customer?\\xa0Create accountENFully supportedEnglish (United States)Partially supportedFrançais (Canada)Français (France)Deutsch (Deutschland)हिंदी (भारत)Italiano (Italia)Português (Brasil)Español (España)Español (México)Use appIMDb ChartsShareIMDb Top 250 MoviesAs rated by regular IMDb voters.250 TitlesSort byRankingRankingIMDb ratingRelease dateNumber of ratingsAlphabeticalPopularityRuntime1. The Shawshank Redemption19942h 22mR9.3\\xa0(2.9M)Rate2. The Godfather19722h 55mR9.2\\xa0(2M)Rate3. The Dark Knight20082h 32mPG-139.0\\xa0(2.9M)Rate4. The Godfather Part II19743h 22mR9.0\\xa0(1.4M)Rate5. 12 Angry Men19571h 36mApproved9.0\\xa0(862K)Rate6. Schindler's List19933h 15mR9.0\\xa0(1.4M)Rate7. The Lord of the Rings: The Return of the King20033h 21mPG-139.0\\xa0(2M)Rate8. Pulp Fiction19942h 34mR8.9\\xa0(2.2M)Rate9. The Lord of the Rings: The Fellowship of the Ring20012h 58mPG-138.9\\xa0(2M)Rate10. The Good, the Bad and the Ugly19662h 58mApproved8.8\\xa0(809K)Rate11. Forrest Gump19942h 22mPG-138.8\\xa0(2.3M)Rate12. The Lord of the Rings: The Two Towers20022h 59mPG-138.8\\xa0(1.8M)Rate13. Fight Club19992h 19mR8.8\\xa0(2.3M)Rate14. Inception20102h 28mPG-138.8\\xa0(2.5M)Rate15. Star Wars: Episode V - The Empire Strikes Back19802h 4mPG8.7\\xa0(1.4M)Rate16. Dune: Part Two20242h 46mPG-138.8\\xa0(320K)Rate17. The Matrix19992h 16mR8.7\\xa0(2M)Rate18. Goodfellas19902h 25mR8.7\\xa0(1.3M)Rate19. One Flew Over the Cuckoo's Nest19752h 13mR8.7\\xa0(1.1M)Rate20. Se7en19952h 7mR8.6\\xa0(1.8M)Rate21. Interstellar20142h 49mPG-138.7\\xa0(2.1M)Rate22. It's a Wonderful Life19462h 10mPG8.6\\xa0(498K)Rate23. Seven Samurai19543h 27mNot Rated8.6\\xa0(366K)Rate24. The Silence of the Lambs19911h 58mR8.6\\xa0(1.5M)Rate25. Saving Private Ryan19982h 49mR8.6\\xa0(1.5M)Rate26. City of God20022h 10mR8.6\\xa0(799K)Rate27. Life Is Beautiful19971h 56mPG-138.6\\xa0(742K)Rate28. The Green Mile19993h 9mR8.6\\xa0(1.4M)Rate29. Terminator 2: Judgment Day19912h 17mR8.6\\xa0(1.2M)Rate30. Star Wars: Episode IV - A New Hope19772h 1mPG8.6\\xa0(1.4M)Rate31. Back to the Future19851h 56mPG8.5\\xa0(1.3M)Rate32. Spirited Away20012h 5mPG8.6\\xa0(846K)Rate33. The Pianist20022h 30mR8.5\\xa0(909K)Rate34. Parasite20192h 12mR8.5\\xa0(954K)Rate35. Psycho19601h 49mR8.5\\xa0(717K)Rate36. Spider-Man: Across the Spider-Verse20232h 20mPG8.6\\xa0(364K)Rate37. Gladiator20002h 35mR8.5\\xa0(1.6M)Rate38. The Lion King19941h 28mG8.5\\xa0(1.1M)Rate39. Léon: The Professional19941h 50mR8.5\\xa0(1.2M)Rate40. The Departed20062h 31mR8.5\\xa0(1.4M)Rate41. American History X19981h 59mR8.5\\xa0(1.2M)Rate42. Whiplash20141h 46mR8.5\\xa0(985K)Rate43. The Prestige20062h 10mPG-138.5\\xa0(1.4M)Rate44. Grave of the Fireflies19881h 29mNot Rated8.5\\xa0(309K)Rate45. Harakiri19622h 13mNot Rated8.6\\xa0(68K)Rate46. The Usual Suspects19951h 46mR8.5\\xa0(1.1M)Rate47. Casablanca19421h 42mPG8.5\\xa0(605K)Rate48. The Intouchables20111h 52mR8.5\\xa0(927K)Rate49. Cinema Paradiso19882h 54mPG8.5\\xa0(282K)Rate50. Modern Times19361h 27mG8.5\\xa0(259K)Rate51. Rear Window19541h 52mPG8.5\\xa0(521K)Rate52. Once Upon a Time in the West19682h 46mPG-138.5\\xa0(349K)Rate53. Alien19791h 57mR8.5\\xa0(948K)Rate54. City Lights19311h 27mG8.5\\xa0(196K)Rate55. Apocalypse Now19792h 27mR8.4\\xa0(709K)Rate56. Django Unchained20122h 45mR8.5\\xa0(1.7M)Rate57. Memento20001h 53mR8.4\\xa0(1.3M)Rate58. 12th Fail20232h\", metadata={'source': 'https://m.imdb.com/chart/top/', 'title': 'IMDb Top 250 Movies', 'description': 'As rated by regular IMDb voters.', 'language': 'en-US'}),\n",
              "  Document(page_content=\"City Lights19311h 27mG8.5\\xa0(196K)Rate55. Apocalypse Now19792h 27mR8.4\\xa0(709K)Rate56. Django Unchained20122h 45mR8.5\\xa0(1.7M)Rate57. Memento20001h 53mR8.4\\xa0(1.3M)Rate58. 12th Fail20232h 27m9.0\\xa0(109K)Rate59. WALL·E20081h 38mG8.4\\xa0(1.2M)Rate60. Raiders of the Lost Ark19811h 55mPG8.4\\xa0(1M)Rate61. The Lives of Others20062h 17mR8.4\\xa0(409K)Rate62. Sunset Blvd.19501h 50mPassed8.4\\xa0(236K)Rate63. Paths of Glory19571h 28mApproved8.4\\xa0(212K)Rate64. Avengers: Infinity War20182h 29mPG-138.4\\xa0(1.2M)Rate65. Spider-Man: Into the Spider-Verse20181h 57mPG8.4\\xa0(668K)Rate66. Witness for the Prosecution19571h 56mApproved8.4\\xa0(137K)Rate67. The Shining19802h 26mR8.4\\xa0(1.1M)Rate68. The Great Dictator19402h 5mG8.4\\xa0(237K)Rate69. Aliens19862h 17mR8.4\\xa0(761K)Rate70. Inglourious Basterds20092h 33mR8.4\\xa0(1.6M)Rate71. The Dark Knight Rises20122h 44mPG-138.4\\xa0(1.8M)Rate72. Dr. Strangelove or: How I Learned to Stop Worrying and Love the Bomb19641h 35mPG8.4\\xa0(517K)Rate73. American Beauty19992h 2mR8.3\\xa0(1.2M)Rate74. Oldboy20032hR8.3\\xa0(634K)Rate75. Coco20171h 45mPG8.4\\xa0(588K)Rate76. Amadeus19842h 40mPG8.4\\xa0(427K)Rate77. Toy Story19951h 21mG8.3\\xa0(1.1M)Rate78. Das Boot19812h 29m8.4\\xa0(264K)Rate79. Braveheart19952h 58mR8.3\\xa0(1.1M)Rate80. Avengers: Endgame20193h 1mPG-138.4\\xa0(1.3M)Rate81. Joker20192h 2mR8.4\\xa0(1.5M)Rate82. Princess Mononoke19972h 14mPG-138.3\\xa0(433K)Rate83. Good Will Hunting19972h 6mR8.3\\xa0(1.1M)Rate84. Your Name.20161h 46m8.4\\xa0(318K)Rate85. Once Upon a Time in America19843h 49mR8.3\\xa0(377K)Rate86. High and Low19632h 23mNot Rated8.4\\xa0(53K)Rate87. 3 Idiots20092h 50mPG-138.4\\xa0(433K)Rate88. Singin' in the Rain19521h 43mG8.3\\xa0(260K)Rate89. Capernaum20182h 6mR8.4\\xa0(105K)Rate90. Requiem for a Dream20001h 42mUnrated8.3\\xa0(897K)Rate91. Come and See19852h 22mNot Rated8.4\\xa0(97K)Rate92. Oppenheimer20233hR8.3\\xa0(711K)Rate93. Toy Story 320101h 43mG8.3\\xa0(891K)Rate94. Star Wars: Episode VI - Return of the Jedi19832h 11mPG8.3\\xa0(1.1M)Rate95. Eternal Sunshine of the Spotless Mind20041h 48mR8.3\\xa0(1.1M)Rate96. The Hunt20121h 55mR8.3\\xa0(363K)Rate97. 2001: A Space Odyssey19682h 29mG8.3\\xa0(718K)Rate98. Reservoir Dogs19921h 39mR8.3\\xa0(1.1M)Rate99. Ikiru19522h 23mNot Rated8.3\\xa0(87K)Rate100. Lawrence of Arabia19623h 38mApproved8.3\\xa0(314K)Rate101. The Apartment19602h 5mApproved8.3\\xa0(196K)Rate102. North by Northwest19592h 16mApproved8.3\\xa0(345K)Rate103. Citizen Kane19411h 59mPG8.3\\xa0(465K)Rate104. Incendies20102h 11mR8.3\\xa0(199K)Rate105. Vertigo19582h 8mPG8.3\\xa0(426K)Rate106. M19311h 39mPassed8.3\\xa0(168K)Rate107. Double Indemnity19441h 47mPassed8.3\\xa0(167K)Rate108. Scarface19832h 50mR8.3\\xa0(914K)Rate109. Amélie20012h 2mR8.3\\xa0(793K)Rate110. Full Metal Jacket19871h 56mR8.3\\xa0(789K)Rate111. Heat19952h 50mR8.3\\xa0(718K)Rate112. A Clockwork Orange19712h 16mX8.3\\xa0(880K)Rate113. Up20091h 36mPG8.3\\xa0(1.1M)Rate114. To Kill a Mockingbird19622h 9mApproved8.3\\xa0(332K)Rate115. The Sting19732h 9mPG8.3\\xa0(279K)Rate116. A Separation20112h 3mPG-138.3\\xa0(258K)Rate117. Indiana Jones and the Last Crusade19892h 7mPG-138.2\\xa0(810K)Rate118. Die Hard19882h 12mR8.2\\xa0(943K)Rate119. Metropolis19272h 33mNot Rated8.3\\xa0(185K)Rate120. Like Stars on Earth20072h 42mPG8.3\\xa0(206K)Rate121. Hamilton20202h 40mPG-138.3\\xa0(113K)Rate122. Snatch20001h 42mR8.2\\xa0(909K)Rate123. L.A. Confidential19972h 18mR8.2\\xa0(617K)Rate124. 191720191h 59mR8.2\\xa0(673K)Rate125. Bicycle Thieves19481h 29mNot Rated8.3\\xa0(175K)Rate126. Taxi Driver19761h 54mR8.2\\xa0(918K)Rate127. Downfall20042h 36mR8.2\\xa0(375K)Rate128. Dangal20162h 41mNot Rated8.3\\xa0(210K)Rate129. For a Few Dollars More19652h 12mR8.2\\xa0(274K)Rate130. Batman Begins20052h 20mPG-138.2\\xa0(1.6M)Rate131. The Wolf of Wall Street20133hR8.2\\xa0(1.6M)Rate132. Some Like It Hot19592h 1mPassed8.2\\xa0(283K)Rate133. Green Book20182h 10mPG-138.2\\xa0(568K)Rate134. The Kid19211h 8mPassed8.2\\xa0(135K)Rate135. The Father20201h 37mPG-138.2\\xa0(192K)Rate136. Judgment at Nuremberg19612h 59mApproved8.3\\xa0(85K)Rate137. All About Eve19502h 18mPassed8.2\\xa0(139K)Rate138. The Truman Show19981h 43mPG8.2\\xa0(1.2M)Rate139. Top Gun: Maverick20222h 10mPG-138.2\\xa0(692K)Rate140. Shutter Island20102h 18mR8.2\\xa0(1.5M)Rate141. There Will Be\", metadata={'source': 'https://m.imdb.com/chart/top/', 'title': 'IMDb Top 250 Movies', 'description': 'As rated by regular IMDb voters.', 'language': 'en-US'})],\n",
              " 'answer': 'The movie with the highest IMDB score is \"The Shawshank Redemption\" with a score of 9.3.'}"
            ]
          },
          "metadata": {},
          "execution_count": 20
        }
      ]
    },
    {
      "cell_type": "code",
      "source": [
        "print(response[\"answer\"])\n"
      ],
      "metadata": {
        "colab": {
          "base_uri": "https://localhost:8080/"
        },
        "id": "usRgSooZo1gb",
        "outputId": "9f2fc169-36ae-406e-b29f-f7dcba5fc71e"
      },
      "id": "usRgSooZo1gb",
      "execution_count": 21,
      "outputs": [
        {
          "output_type": "stream",
          "name": "stdout",
          "text": [
            "The movie with the highest IMDB score is \"The Shawshank Redemption\" with a score of 9.3.\n"
          ]
        }
      ]
    },
    {
      "cell_type": "markdown",
      "source": [
        "# Conversations with Chatbots"
      ],
      "metadata": {
        "id": "ICJolKBqqX5U"
      },
      "id": "ICJolKBqqX5U"
    },
    {
      "cell_type": "code",
      "source": [
        "from dotenv import load_dotenv\n",
        "load_dotenv()"
      ],
      "metadata": {
        "colab": {
          "base_uri": "https://localhost:8080/"
        },
        "id": "llvkvKHIqa06",
        "outputId": "27fd0290-b482-467e-cc84-de516b56143b"
      },
      "id": "llvkvKHIqa06",
      "execution_count": 22,
      "outputs": [
        {
          "output_type": "execute_result",
          "data": {
            "text/plain": [
              "True"
            ]
          },
          "metadata": {},
          "execution_count": 22
        }
      ]
    },
    {
      "cell_type": "code",
      "source": [
        "from langchain_community.document_loaders import WebBaseLoader\n",
        "\n",
        "loader = WebBaseLoader(\"https://m.imdb.com/chart/top/\")\n",
        "\n",
        "docs = loader.load()"
      ],
      "metadata": {
        "id": "ftbVlI7Eqgst"
      },
      "id": "ftbVlI7Eqgst",
      "execution_count": 23,
      "outputs": []
    },
    {
      "cell_type": "code",
      "source": [
        "from langchain_openai import OpenAIEmbeddings\n",
        "\n",
        "embeddings=OpenAIEmbeddings()"
      ],
      "metadata": {
        "id": "NOTgr2btrxBP"
      },
      "id": "NOTgr2btrxBP",
      "execution_count": 24,
      "outputs": []
    },
    {
      "cell_type": "code",
      "source": [
        "from langchain_openai import ChatOpenAI\n",
        "\n",
        "model = ChatOpenAI()"
      ],
      "metadata": {
        "id": "ZGgZSysos1hT"
      },
      "id": "ZGgZSysos1hT",
      "execution_count": 29,
      "outputs": []
    },
    {
      "cell_type": "code",
      "source": [
        "from langchain_openai import OpenAIEmbeddings\n",
        "from langchain.text_splitter import RecursiveCharacterTextSplitter\n",
        "\n",
        "text_splitter = RecursiveCharacterTextSplitter()\n",
        "documents = text_splitter.split_documents(docs)"
      ],
      "metadata": {
        "id": "-eAVekPar9v6"
      },
      "id": "-eAVekPar9v6",
      "execution_count": 25,
      "outputs": []
    },
    {
      "cell_type": "code",
      "source": [
        "documents"
      ],
      "metadata": {
        "colab": {
          "base_uri": "https://localhost:8080/"
        },
        "id": "YvKYxITQsN4J",
        "outputId": "cfe1d2b8-4b89-42d4-fb30-dec5b81a4288"
      },
      "id": "YvKYxITQsN4J",
      "execution_count": 26,
      "outputs": [
        {
          "output_type": "execute_result",
          "data": {
            "text/plain": [
              "[Document(page_content='IMDb Top 250 Movies', metadata={'source': 'https://m.imdb.com/chart/top/', 'title': 'IMDb Top 250 Movies', 'description': 'As rated by regular IMDb voters.', 'language': 'en-US'}),\n",
              " Document(page_content=\"MenuMoviesRelease CalendarTop 250 MoviesMost Popular MoviesBrowse Movies by GenreTop Box OfficeShowtimes & TicketsMovie NewsIndia Movie SpotlightTV ShowsWhat's on TV & StreamingTop 250 TV ShowsMost Popular TV ShowsBrowse TV Shows by GenreTV NewsWatchWhat to WatchLatest TrailersIMDb OriginalsIMDb PicksIMDb SpotlightIMDb PodcastsAwards & EventsOscarsSXSW Film FestivalCannes Film FestivalSTARmeter AwardsAwards CentralFestival CentralAll EventsCelebsBorn TodayMost Popular CelebsCelebrity NewsCommunityHelp CenterContributor ZonePollsFor Industry ProfessionalsLanguageEnglish (United States)LanguageFully supportedEnglish (United States)Partially supportedFrançais (Canada)Français (France)Deutsch (Deutschland)हिंदी (भारत)Italiano (Italia)Português (Brasil)Español (España)Español (México)AllAllTitlesTV EpisodesCelebsCompaniesKeywordsAdvanced SearchWatchlistSign InSign InNew Customer?\\xa0Create accountENFully supportedEnglish (United States)Partially supportedFrançais (Canada)Français (France)Deutsch (Deutschland)हिंदी (भारत)Italiano (Italia)Português (Brasil)Español (España)Español (México)Use appIMDb ChartsShareIMDb Top 250 MoviesAs rated by regular IMDb voters.250 TitlesSort byRankingRankingIMDb ratingRelease dateNumber of ratingsAlphabeticalPopularityRuntime1. The Shawshank Redemption19942h 22mR9.3\\xa0(2.9M)Rate2. The Godfather19722h 55mR9.2\\xa0(2M)Rate3. The Dark Knight20082h 32mPG-139.0\\xa0(2.9M)Rate4. The Godfather Part II19743h 22mR9.0\\xa0(1.4M)Rate5. 12 Angry Men19571h 36mApproved9.0\\xa0(862K)Rate6. Schindler's List19933h 15mR9.0\\xa0(1.4M)Rate7. The Lord of the Rings: The Return of the King20033h 21mPG-139.0\\xa0(2M)Rate8. Pulp Fiction19942h 34mR8.9\\xa0(2.2M)Rate9. The Lord of the Rings: The Fellowship of the Ring20012h 58mPG-138.9\\xa0(2M)Rate10. The Good, the Bad and the Ugly19662h 58mApproved8.8\\xa0(809K)Rate11. Forrest Gump19942h 22mPG-138.8\\xa0(2.3M)Rate12. The Lord of the Rings: The Two Towers20022h 59mPG-138.8\\xa0(1.8M)Rate13. Fight Club19992h 19mR8.8\\xa0(2.3M)Rate14. Inception20102h 28mPG-138.8\\xa0(2.5M)Rate15. Star Wars: Episode V - The Empire Strikes Back19802h 4mPG8.7\\xa0(1.4M)Rate16. Dune: Part Two20242h 46mPG-138.8\\xa0(320K)Rate17. The Matrix19992h 16mR8.7\\xa0(2M)Rate18. Goodfellas19902h 25mR8.7\\xa0(1.3M)Rate19. One Flew Over the Cuckoo's Nest19752h 13mR8.7\\xa0(1.1M)Rate20. Se7en19952h 7mR8.6\\xa0(1.8M)Rate21. Interstellar20142h 49mPG-138.7\\xa0(2.1M)Rate22. It's a Wonderful Life19462h 10mPG8.6\\xa0(498K)Rate23. Seven Samurai19543h 27mNot Rated8.6\\xa0(366K)Rate24. The Silence of the Lambs19911h 58mR8.6\\xa0(1.5M)Rate25. Saving Private Ryan19982h 49mR8.6\\xa0(1.5M)Rate26. City of God20022h 10mR8.6\\xa0(799K)Rate27. Life Is Beautiful19971h 56mPG-138.6\\xa0(742K)Rate28. The Green Mile19993h 9mR8.6\\xa0(1.4M)Rate29. Terminator 2: Judgment Day19912h 17mR8.6\\xa0(1.2M)Rate30. Star Wars: Episode IV - A New Hope19772h 1mPG8.6\\xa0(1.4M)Rate31. Back to the Future19851h 56mPG8.5\\xa0(1.3M)Rate32. Spirited Away20012h 5mPG8.6\\xa0(846K)Rate33. The Pianist20022h 30mR8.5\\xa0(909K)Rate34. Parasite20192h 12mR8.5\\xa0(954K)Rate35. Psycho19601h 49mR8.5\\xa0(717K)Rate36. Spider-Man: Across the Spider-Verse20232h 20mPG8.6\\xa0(364K)Rate37. Gladiator20002h 35mR8.5\\xa0(1.6M)Rate38. The Lion King19941h 28mG8.5\\xa0(1.1M)Rate39. Léon: The Professional19941h 50mR8.5\\xa0(1.2M)Rate40. The Departed20062h 31mR8.5\\xa0(1.4M)Rate41. American History X19981h 59mR8.5\\xa0(1.2M)Rate42. Whiplash20141h 46mR8.5\\xa0(985K)Rate43. The Prestige20062h 10mPG-138.5\\xa0(1.4M)Rate44. Grave of the Fireflies19881h 29mNot Rated8.5\\xa0(309K)Rate45. Harakiri19622h 13mNot Rated8.6\\xa0(68K)Rate46. The Usual Suspects19951h 46mR8.5\\xa0(1.1M)Rate47. Casablanca19421h 42mPG8.5\\xa0(605K)Rate48. The Intouchables20111h 52mR8.5\\xa0(927K)Rate49. Cinema Paradiso19882h 54mPG8.5\\xa0(282K)Rate50. Modern Times19361h 27mG8.5\\xa0(259K)Rate51. Rear Window19541h 52mPG8.5\\xa0(521K)Rate52. Once Upon a Time in the West19682h 46mPG-138.5\\xa0(349K)Rate53. Alien19791h 57mR8.5\\xa0(948K)Rate54. City Lights19311h 27mG8.5\\xa0(196K)Rate55. Apocalypse Now19792h 27mR8.4\\xa0(709K)Rate56. Django Unchained20122h 45mR8.5\\xa0(1.7M)Rate57. Memento20001h 53mR8.4\\xa0(1.3M)Rate58. 12th Fail20232h\", metadata={'source': 'https://m.imdb.com/chart/top/', 'title': 'IMDb Top 250 Movies', 'description': 'As rated by regular IMDb voters.', 'language': 'en-US'}),\n",
              " Document(page_content=\"City Lights19311h 27mG8.5\\xa0(196K)Rate55. Apocalypse Now19792h 27mR8.4\\xa0(709K)Rate56. Django Unchained20122h 45mR8.5\\xa0(1.7M)Rate57. Memento20001h 53mR8.4\\xa0(1.3M)Rate58. 12th Fail20232h 27m9.0\\xa0(109K)Rate59. WALL·E20081h 38mG8.4\\xa0(1.2M)Rate60. Raiders of the Lost Ark19811h 55mPG8.4\\xa0(1M)Rate61. The Lives of Others20062h 17mR8.4\\xa0(409K)Rate62. Sunset Blvd.19501h 50mPassed8.4\\xa0(236K)Rate63. Paths of Glory19571h 28mApproved8.4\\xa0(212K)Rate64. Avengers: Infinity War20182h 29mPG-138.4\\xa0(1.2M)Rate65. Spider-Man: Into the Spider-Verse20181h 57mPG8.4\\xa0(668K)Rate66. Witness for the Prosecution19571h 56mApproved8.4\\xa0(137K)Rate67. The Shining19802h 26mR8.4\\xa0(1.1M)Rate68. The Great Dictator19402h 5mG8.4\\xa0(237K)Rate69. Aliens19862h 17mR8.4\\xa0(761K)Rate70. Inglourious Basterds20092h 33mR8.4\\xa0(1.6M)Rate71. The Dark Knight Rises20122h 44mPG-138.4\\xa0(1.8M)Rate72. Dr. Strangelove or: How I Learned to Stop Worrying and Love the Bomb19641h 35mPG8.4\\xa0(517K)Rate73. American Beauty19992h 2mR8.3\\xa0(1.2M)Rate74. Oldboy20032hR8.3\\xa0(634K)Rate75. Coco20171h 45mPG8.4\\xa0(588K)Rate76. Amadeus19842h 40mPG8.4\\xa0(427K)Rate77. Toy Story19951h 21mG8.3\\xa0(1.1M)Rate78. Das Boot19812h 29m8.4\\xa0(264K)Rate79. Braveheart19952h 58mR8.3\\xa0(1.1M)Rate80. Avengers: Endgame20193h 1mPG-138.4\\xa0(1.3M)Rate81. Joker20192h 2mR8.4\\xa0(1.5M)Rate82. Princess Mononoke19972h 14mPG-138.3\\xa0(433K)Rate83. Good Will Hunting19972h 6mR8.3\\xa0(1.1M)Rate84. Your Name.20161h 46m8.4\\xa0(318K)Rate85. Once Upon a Time in America19843h 49mR8.3\\xa0(377K)Rate86. High and Low19632h 23mNot Rated8.4\\xa0(53K)Rate87. 3 Idiots20092h 50mPG-138.4\\xa0(433K)Rate88. Singin' in the Rain19521h 43mG8.3\\xa0(260K)Rate89. Capernaum20182h 6mR8.4\\xa0(105K)Rate90. Requiem for a Dream20001h 42mUnrated8.3\\xa0(897K)Rate91. Come and See19852h 22mNot Rated8.4\\xa0(97K)Rate92. Oppenheimer20233hR8.3\\xa0(711K)Rate93. Toy Story 320101h 43mG8.3\\xa0(891K)Rate94. Star Wars: Episode VI - Return of the Jedi19832h 11mPG8.3\\xa0(1.1M)Rate95. Eternal Sunshine of the Spotless Mind20041h 48mR8.3\\xa0(1.1M)Rate96. The Hunt20121h 55mR8.3\\xa0(363K)Rate97. 2001: A Space Odyssey19682h 29mG8.3\\xa0(718K)Rate98. Reservoir Dogs19921h 39mR8.3\\xa0(1.1M)Rate99. Ikiru19522h 23mNot Rated8.3\\xa0(87K)Rate100. Lawrence of Arabia19623h 38mApproved8.3\\xa0(314K)Rate101. The Apartment19602h 5mApproved8.3\\xa0(196K)Rate102. North by Northwest19592h 16mApproved8.3\\xa0(345K)Rate103. Citizen Kane19411h 59mPG8.3\\xa0(465K)Rate104. Incendies20102h 11mR8.3\\xa0(199K)Rate105. Vertigo19582h 8mPG8.3\\xa0(426K)Rate106. M19311h 39mPassed8.3\\xa0(168K)Rate107. Double Indemnity19441h 47mPassed8.3\\xa0(167K)Rate108. Scarface19832h 50mR8.3\\xa0(914K)Rate109. Amélie20012h 2mR8.3\\xa0(793K)Rate110. Full Metal Jacket19871h 56mR8.3\\xa0(789K)Rate111. Heat19952h 50mR8.3\\xa0(718K)Rate112. A Clockwork Orange19712h 16mX8.3\\xa0(880K)Rate113. Up20091h 36mPG8.3\\xa0(1.1M)Rate114. To Kill a Mockingbird19622h 9mApproved8.3\\xa0(332K)Rate115. The Sting19732h 9mPG8.3\\xa0(279K)Rate116. A Separation20112h 3mPG-138.3\\xa0(258K)Rate117. Indiana Jones and the Last Crusade19892h 7mPG-138.2\\xa0(810K)Rate118. Die Hard19882h 12mR8.2\\xa0(943K)Rate119. Metropolis19272h 33mNot Rated8.3\\xa0(185K)Rate120. Like Stars on Earth20072h 42mPG8.3\\xa0(206K)Rate121. Hamilton20202h 40mPG-138.3\\xa0(113K)Rate122. Snatch20001h 42mR8.2\\xa0(909K)Rate123. L.A. Confidential19972h 18mR8.2\\xa0(617K)Rate124. 191720191h 59mR8.2\\xa0(673K)Rate125. Bicycle Thieves19481h 29mNot Rated8.3\\xa0(175K)Rate126. Taxi Driver19761h 54mR8.2\\xa0(918K)Rate127. Downfall20042h 36mR8.2\\xa0(375K)Rate128. Dangal20162h 41mNot Rated8.3\\xa0(210K)Rate129. For a Few Dollars More19652h 12mR8.2\\xa0(274K)Rate130. Batman Begins20052h 20mPG-138.2\\xa0(1.6M)Rate131. The Wolf of Wall Street20133hR8.2\\xa0(1.6M)Rate132. Some Like It Hot19592h 1mPassed8.2\\xa0(283K)Rate133. Green Book20182h 10mPG-138.2\\xa0(568K)Rate134. The Kid19211h 8mPassed8.2\\xa0(135K)Rate135. The Father20201h 37mPG-138.2\\xa0(192K)Rate136. Judgment at Nuremberg19612h 59mApproved8.3\\xa0(85K)Rate137. All About Eve19502h 18mPassed8.2\\xa0(139K)Rate138. The Truman Show19981h 43mPG8.2\\xa0(1.2M)Rate139. Top Gun: Maverick20222h 10mPG-138.2\\xa0(692K)Rate140. Shutter Island20102h 18mR8.2\\xa0(1.5M)Rate141. There Will Be\", metadata={'source': 'https://m.imdb.com/chart/top/', 'title': 'IMDb Top 250 Movies', 'description': 'As rated by regular IMDb voters.', 'language': 'en-US'}),\n",
              " Document(page_content=\"About Eve19502h 18mPassed8.2\\xa0(139K)Rate138. The Truman Show19981h 43mPG8.2\\xa0(1.2M)Rate139. Top Gun: Maverick20222h 10mPG-138.2\\xa0(692K)Rate140. Shutter Island20102h 18mR8.2\\xa0(1.5M)Rate141. There Will Be Blood20072h 38mR8.2\\xa0(640K)Rate142. Casino19952h 58mR8.2\\xa0(563K)Rate143. Ran19852h 40mR8.2\\xa0(136K)Rate144. Jurassic Park19932h 7mPG-138.2\\xa0(1.1M)Rate145. The Sixth Sense19991h 47mPG-138.2\\xa0(1M)Rate146. Pan's Labyrinth20061h 58mR8.2\\xa0(702K)Rate147. Unforgiven19922h 10mR8.2\\xa0(435K)Rate148. No Country for Old Men20072h 2mR8.2\\xa0(1.1M)Rate149. A Beautiful Mind20012h 15mPG-138.2\\xa0(985K)Rate150. The Thing19821h 49mR8.2\\xa0(465K)Rate151. The Treasure of the Sierra Madre19482h 6mPassed8.2\\xa0(132K)Rate152. Kill Bill: Vol. 120031h 51mR8.2\\xa0(1.2M)Rate153. Yojimbo19611h 50mNot Rated8.2\\xa0(131K)Rate154. Monty Python and the Holy Grail19751h 31mPG8.2\\xa0(569K)Rate155. The Great Escape19632h 52mApproved8.2\\xa0(258K)Rate156. Finding Nemo20031h 40mG8.2\\xa0(1.1M)Rate157. Rashomon19501h 28mNot Rated8.2\\xa0(180K)Rate158. Prisoners20132h 33mR8.2\\xa0(807K)Rate159. Howl's Moving Castle20041h 59mPG8.2\\xa0(447K)Rate160. The Elephant Man19802h 4mPG8.2\\xa0(258K)Rate161. Chinatown19742h 10mR8.1\\xa0(349K)Rate162. Dial M for Murder19541h 45mPG8.2\\xa0(188K)Rate163. Gone with the Wind19393h 58mPassed8.2\\xa0(334K)Rate164. V for Vendetta20052h 12mR8.2\\xa0(1.2M)Rate165. Lock, Stock and Two Smoking Barrels19981h 47mR8.1\\xa0(615K)Rate166. The Secret in Their Eyes20092h 9mR8.2\\xa0(222K)Rate167. Inside Out20151h 35mPG8.1\\xa0(783K)Rate168. Raging Bull19802h 9mR8.1\\xa0(379K)Rate169. Three Billboards Outside Ebbing, Missouri20171h 55mR8.1\\xa0(554K)Rate170. Trainspotting19961h 33mR8.1\\xa0(724K)Rate171. The Bridge on the River Kwai19572h 41mPG8.1\\xa0(233K)Rate172. Spider-Man: No Way Home20212h 28mPG-138.2\\xa0(875K)Rate173. Fargo19961h 38mR8.1\\xa0(725K)Rate174. Klaus20191h 36mPG8.2\\xa0(189K)Rate175. Catch Me If You Can20022h 21mPG-138.1\\xa0(1.1M)Rate176. Warrior20112h 20mPG-138.1\\xa0(497K)Rate177. Godzilla Minus One20232h 4mPG-138.3\\xa0(48K)Rate178. Gran Torino20081h 56mR8.1\\xa0(814K)Rate179. My Neighbor Totoro19881h 26mG8.1\\xa0(379K)Rate180. Million Dollar Baby20042h 12mPG-138.1\\xa0(721K)Rate181. Harry Potter and the Deathly Hallows: Part 220112h 10mPG-138.1\\xa0(946K)Rate182. Children of Heaven19971h 29mPG8.2\\xa0(81K)Rate183. 12 Years a Slave20132h 14mR8.1\\xa0(740K)Rate184. Blade Runner19821h 57mR8.1\\xa0(822K)Rate185. Before Sunrise19951h 41mR8.1\\xa0(338K)Rate186. Ben-Hur19593h 32mG8.1\\xa0(253K)Rate187. The Grand Budapest Hotel20141h 39mR8.1\\xa0(885K)Rate188. Barry Lyndon19753h 5mPG8.1\\xa0(183K)Rate189. Gone Girl20142h 29mR8.1\\xa0(1.1M)Rate190. Hacksaw Ridge20162h 19mR8.1\\xa0(592K)Rate191. The Gold Rush19251h 35mPassed8.1\\xa0(118K)Rate192. Memories of Murder20032h 12mNot Rated8.1\\xa0(215K)Rate193. In the Name of the Father19932h 13mR8.1\\xa0(187K)Rate194. Dead Poets Society19892h 8mPG8.1\\xa0(544K)Rate195. On the Waterfront19541h 48mApproved8.1\\xa0(164K)Rate196. The General19261h 18mPassed8.1\\xa0(98K)Rate197. The Deer Hunter19783h 3mR8.1\\xa0(362K)Rate198. Wild Tales20142h 2mR8.1\\xa0(216K)Rate199. Mad Max: Fury Road20152hR8.1\\xa0(1.1M)Rate200. Monsters, Inc.20011h 32mG8.1\\xa0(977K)Rate201. Sherlock Jr.192445mPassed8.2\\xa0(57K)Rate202. The Third Man19491h 33mApproved8.1\\xa0(182K)Rate203. Wild Strawberries19571h 31mNot Rated8.1\\xa0(115K)Rate204. The Wages of Fear19532h 11mNot Rated8.2\\xa0(66K)Rate205. Jaws19752h 4mPG8.1\\xa0(658K)Rate206. How to Train Your Dragon20101h 38mPG8.1\\xa0(798K)Rate207. Mary and Max20091h 32mNot Rated8.1\\xa0(187K)Rate208. Mr. Smith Goes to Washington19392h 9mPassed8.1\\xa0(121K)Rate209. Ratatouille20071h 51mG8.1\\xa0(822K)Rate210. Ford v Ferrari20192h 32mPG-138.1\\xa0(471K)Rate211. The Big Lebowski19981h 57mR8.1\\xa0(859K)Rate212. Tokyo Story19532h 16mNot Rated8.1\\xa0(68K)Rate213. Room20151h 58mR8.1\\xa0(449K)Rate214. The Seventh Seal19571h 36mNot Rated8.1\\xa0(198K)Rate215. Rocky19762hPG8.1\\xa0(627K)Rate216. Logan20172h 17mR8.1\\xa0(829K)Rate217. Spotlight20152h 9mR8.1\\xa0(501K)Rate218. Hotel Rwanda20042h 1mPG-138.1\\xa0(372K)Rate219. Platoon19862hR8.1\\xa0(439K)Rate220. The Terminator19841h 47mR8.1\\xa0(922K)Rate221. The Passion of Joan of Arc19281h 54mPassed8.1\\xa0(61K)Rate222.\", metadata={'source': 'https://m.imdb.com/chart/top/', 'title': 'IMDb Top 250 Movies', 'description': 'As rated by regular IMDb voters.', 'language': 'en-US'}),\n",
              " Document(page_content=\"Hotel Rwanda20042h 1mPG-138.1\\xa0(372K)Rate219. Platoon19862hR8.1\\xa0(439K)Rate220. The Terminator19841h 47mR8.1\\xa0(922K)Rate221. The Passion of Joan of Arc19281h 54mPassed8.1\\xa0(61K)Rate222. Before Sunset20041h 20mR8.1\\xa0(287K)Rate223. La haine19951h 38mNot Rated8.1\\xa0(196K)Rate224. The Best Years of Our Lives19462h 50mApproved8.1\\xa0(70K)Rate225. Pirates of the Caribbean: The Curse of the Black Pearl20032h 23mPG-138.1\\xa0(1.2M)Rate226. The Exorcist19732h 2mR8.1\\xa0(454K)Rate227. Rush20132h 3mR8.1\\xa0(512K)Rate228. Jai Bhim20212h 44mApproved8.7\\xa0(217K)Rate229. Network19762h 1mR8.1\\xa0(170K)Rate230. Stand by Me19861h 29mR8.1\\xa0(441K)Rate231. The Wizard of Oz19391h 42mG8.1\\xa0(428K)Rate232. The Incredibles20041h 55mPG8.0\\xa0(807K)Rate233. Hachi: A Dog's Tale20091h 33mG8.1\\xa0(311K)Rate234. The Handmaiden20162h 25mNot Rated8.1\\xa0(172K)Rate235. Into the Wild20072h 28mR8.1\\xa0(657K)Rate236. My Father and My Son20051h 52mNot Rated8.2\\xa0(92K)Rate237. The Sound of Music19652h 52mG8.1\\xa0(260K)Rate238. The Battle of Algiers19662h 1mNot Rated8.1\\xa0(66K)Rate239. The Grapes of Wrath19402h 9mPassed8.1\\xa0(100K)Rate240. To Be or Not to Be19421h 39mPassed8.1\\xa0(43K)Rate241. Groundhog Day19931h 41mPG8.0\\xa0(684K)Rate242. Amores Perros20002h 34mR8.1\\xa0(253K)Rate243. Rebecca19402h 10mApproved8.1\\xa0(146K)Rate244. Cool Hand Luke19672h 7mGP8.1\\xa0(188K)Rate245. The Iron Giant19991h 26mPG8.1\\xa0(227K)Rate246. The Help20112h 26mPG-138.1\\xa0(492K)Rate247. It Happened One Night19341h 45mPassed8.1\\xa0(112K)Rate248. Dances with Wolves19903h 1mPG-138.0\\xa0(290K)Rate249. Aladdin19921h 30mG8.0\\xa0(465K)Rate250. Andhadhun20182h 19mNot Rated8.2\\xa0(102K)RateThe Top Rated Movie list only includes feature films.Shorts, TV movies, and documentaries are not includedThe list is ranked by a formula which includes the number of ratings each movie received from users, and value of ratings received from regular usersTo be included on the list, a movie must receive ratings from at least 25000 usersLearn more about how list ranking is determined.More to exploreChartsTop Box Office (US)From the past weekendMost Popular MoviesAs determined by IMDb usersTop Rated English MoviesEnglish-language movies as rated by IMDb usersMost Popular TV ShowsAs determined by IMDb usersTop 250 TV ShowsTop 250 as rated by IMDb UsersLowest Rated MoviesBottom 100 as voted by IMDb usersMost Popular CelebsAs determined by IMDb usersTop Rated Movies by GenreRecently viewedYou have no recently viewed pagesGet the IMDb appSign in for more accessSign in for more accessFollow IMDb on socialGet the IMDb appFor Android and iOSHelpSite IndexIMDbProBox Office MojoLicense IMDb DataPress RoomAdvertisingJobsConditions of UsePrivacy PolicyYour Ads Privacy ChoicesIMDb, an Amazon company© 1990-2024 by IMDb.com, Inc.Back to top\", metadata={'source': 'https://m.imdb.com/chart/top/', 'title': 'IMDb Top 250 Movies', 'description': 'As rated by regular IMDb voters.', 'language': 'en-US'})]"
            ]
          },
          "metadata": {},
          "execution_count": 26
        }
      ]
    },
    {
      "cell_type": "code",
      "source": [
        "from langchain_community.vectorstores import FAISS\n",
        "\n",
        "vector = FAISS.from_documents(documents, embeddings)"
      ],
      "metadata": {
        "id": "scGkXKQOsPCQ"
      },
      "id": "scGkXKQOsPCQ",
      "execution_count": 27,
      "outputs": []
    },
    {
      "cell_type": "code",
      "source": [
        "retriever = vector.as_retriever()\n"
      ],
      "metadata": {
        "id": "V_40ngTDsgQI"
      },
      "id": "V_40ngTDsgQI",
      "execution_count": 28,
      "outputs": []
    },
    {
      "cell_type": "code",
      "source": [
        "from langchain_core.prompts import ChatPromptTemplate\n",
        "from langchain_core.prompts import MessagesPlaceholder\n",
        "\n",
        "prompt = ChatPromptTemplate.from_messages(\n",
        "    [\n",
        "        MessagesPlaceholder(variable_name=\"chat_history\"),\n",
        "        (\"user\", \"{input}\"),\n",
        "        (\"user\", \"Given the above conversation, generate a search\\\n",
        " query to look up in order to get information relevant to the conversaion\")\n",
        "    ]\n",
        ")"
      ],
      "metadata": {
        "id": "aL6_KAgcwdcC"
      },
      "id": "aL6_KAgcwdcC",
      "execution_count": 30,
      "outputs": []
    },
    {
      "cell_type": "code",
      "source": [
        "from langchain.chains import create_history_aware_retriever\n",
        "\n",
        "retriver_chain=create_history_aware_retriever(\n",
        "    model, retriever, prompt\n",
        ")"
      ],
      "metadata": {
        "id": "aXRUbTZryeH6"
      },
      "id": "aXRUbTZryeH6",
      "execution_count": 33,
      "outputs": []
    },
    {
      "cell_type": "code",
      "source": [
        "from langchain_core.messages import HumanMessage, AIMessage\n",
        "\n",
        "chat_history=[\n",
        "    HumanMessage(\n",
        "        content=\"Which movie has the highest IMDB score?\"\n",
        "    ),\n",
        "    AIMessage(content=\"The Shawshank Redemption\")\n",
        "]"
      ],
      "metadata": {
        "id": "BFvNMV1xxOLD"
      },
      "id": "BFvNMV1xxOLD",
      "execution_count": 34,
      "outputs": []
    },
    {
      "cell_type": "code",
      "source": [
        "retriver_chain.invoke(\n",
        "    {\n",
        "        \"chat_history\": chat_history,\n",
        "        \"input\": \"Tell me why\",\n",
        "    }\n",
        ")"
      ],
      "metadata": {
        "colab": {
          "base_uri": "https://localhost:8080/"
        },
        "id": "78pagD98yU0-",
        "outputId": "5940561d-b40f-42d3-d097-194e0ecc5f4c"
      },
      "id": "78pagD98yU0-",
      "execution_count": 35,
      "outputs": [
        {
          "output_type": "execute_result",
          "data": {
            "text/plain": [
              "[Document(page_content='IMDb Top 250 Movies', metadata={'source': 'https://m.imdb.com/chart/top/', 'title': 'IMDb Top 250 Movies', 'description': 'As rated by regular IMDb voters.', 'language': 'en-US'}),\n",
              " Document(page_content=\"Hotel Rwanda20042h 1mPG-138.1\\xa0(372K)Rate219. Platoon19862hR8.1\\xa0(439K)Rate220. The Terminator19841h 47mR8.1\\xa0(922K)Rate221. The Passion of Joan of Arc19281h 54mPassed8.1\\xa0(61K)Rate222. Before Sunset20041h 20mR8.1\\xa0(287K)Rate223. La haine19951h 38mNot Rated8.1\\xa0(196K)Rate224. The Best Years of Our Lives19462h 50mApproved8.1\\xa0(70K)Rate225. Pirates of the Caribbean: The Curse of the Black Pearl20032h 23mPG-138.1\\xa0(1.2M)Rate226. The Exorcist19732h 2mR8.1\\xa0(454K)Rate227. Rush20132h 3mR8.1\\xa0(512K)Rate228. Jai Bhim20212h 44mApproved8.7\\xa0(217K)Rate229. Network19762h 1mR8.1\\xa0(170K)Rate230. Stand by Me19861h 29mR8.1\\xa0(441K)Rate231. The Wizard of Oz19391h 42mG8.1\\xa0(428K)Rate232. The Incredibles20041h 55mPG8.0\\xa0(807K)Rate233. Hachi: A Dog's Tale20091h 33mG8.1\\xa0(311K)Rate234. The Handmaiden20162h 25mNot Rated8.1\\xa0(172K)Rate235. Into the Wild20072h 28mR8.1\\xa0(657K)Rate236. My Father and My Son20051h 52mNot Rated8.2\\xa0(92K)Rate237. The Sound of Music19652h 52mG8.1\\xa0(260K)Rate238. The Battle of Algiers19662h 1mNot Rated8.1\\xa0(66K)Rate239. The Grapes of Wrath19402h 9mPassed8.1\\xa0(100K)Rate240. To Be or Not to Be19421h 39mPassed8.1\\xa0(43K)Rate241. Groundhog Day19931h 41mPG8.0\\xa0(684K)Rate242. Amores Perros20002h 34mR8.1\\xa0(253K)Rate243. Rebecca19402h 10mApproved8.1\\xa0(146K)Rate244. Cool Hand Luke19672h 7mGP8.1\\xa0(188K)Rate245. The Iron Giant19991h 26mPG8.1\\xa0(227K)Rate246. The Help20112h 26mPG-138.1\\xa0(492K)Rate247. It Happened One Night19341h 45mPassed8.1\\xa0(112K)Rate248. Dances with Wolves19903h 1mPG-138.0\\xa0(290K)Rate249. Aladdin19921h 30mG8.0\\xa0(465K)Rate250. Andhadhun20182h 19mNot Rated8.2\\xa0(102K)RateThe Top Rated Movie list only includes feature films.Shorts, TV movies, and documentaries are not includedThe list is ranked by a formula which includes the number of ratings each movie received from users, and value of ratings received from regular usersTo be included on the list, a movie must receive ratings from at least 25000 usersLearn more about how list ranking is determined.More to exploreChartsTop Box Office (US)From the past weekendMost Popular MoviesAs determined by IMDb usersTop Rated English MoviesEnglish-language movies as rated by IMDb usersMost Popular TV ShowsAs determined by IMDb usersTop 250 TV ShowsTop 250 as rated by IMDb UsersLowest Rated MoviesBottom 100 as voted by IMDb usersMost Popular CelebsAs determined by IMDb usersTop Rated Movies by GenreRecently viewedYou have no recently viewed pagesGet the IMDb appSign in for more accessSign in for more accessFollow IMDb on socialGet the IMDb appFor Android and iOSHelpSite IndexIMDbProBox Office MojoLicense IMDb DataPress RoomAdvertisingJobsConditions of UsePrivacy PolicyYour Ads Privacy ChoicesIMDb, an Amazon company© 1990-2024 by IMDb.com, Inc.Back to top\", metadata={'source': 'https://m.imdb.com/chart/top/', 'title': 'IMDb Top 250 Movies', 'description': 'As rated by regular IMDb voters.', 'language': 'en-US'}),\n",
              " Document(page_content=\"MenuMoviesRelease CalendarTop 250 MoviesMost Popular MoviesBrowse Movies by GenreTop Box OfficeShowtimes & TicketsMovie NewsIndia Movie SpotlightTV ShowsWhat's on TV & StreamingTop 250 TV ShowsMost Popular TV ShowsBrowse TV Shows by GenreTV NewsWatchWhat to WatchLatest TrailersIMDb OriginalsIMDb PicksIMDb SpotlightIMDb PodcastsAwards & EventsOscarsSXSW Film FestivalCannes Film FestivalSTARmeter AwardsAwards CentralFestival CentralAll EventsCelebsBorn TodayMost Popular CelebsCelebrity NewsCommunityHelp CenterContributor ZonePollsFor Industry ProfessionalsLanguageEnglish (United States)LanguageFully supportedEnglish (United States)Partially supportedFrançais (Canada)Français (France)Deutsch (Deutschland)हिंदी (भारत)Italiano (Italia)Português (Brasil)Español (España)Español (México)AllAllTitlesTV EpisodesCelebsCompaniesKeywordsAdvanced SearchWatchlistSign InSign InNew Customer?\\xa0Create accountENFully supportedEnglish (United States)Partially supportedFrançais (Canada)Français (France)Deutsch (Deutschland)हिंदी (भारत)Italiano (Italia)Português (Brasil)Español (España)Español (México)Use appIMDb ChartsShareIMDb Top 250 MoviesAs rated by regular IMDb voters.250 TitlesSort byRankingRankingIMDb ratingRelease dateNumber of ratingsAlphabeticalPopularityRuntime1. The Shawshank Redemption19942h 22mR9.3\\xa0(2.9M)Rate2. The Godfather19722h 55mR9.2\\xa0(2M)Rate3. The Dark Knight20082h 32mPG-139.0\\xa0(2.9M)Rate4. The Godfather Part II19743h 22mR9.0\\xa0(1.4M)Rate5. 12 Angry Men19571h 36mApproved9.0\\xa0(862K)Rate6. Schindler's List19933h 15mR9.0\\xa0(1.4M)Rate7. The Lord of the Rings: The Return of the King20033h 21mPG-139.0\\xa0(2M)Rate8. Pulp Fiction19942h 34mR8.9\\xa0(2.2M)Rate9. The Lord of the Rings: The Fellowship of the Ring20012h 58mPG-138.9\\xa0(2M)Rate10. The Good, the Bad and the Ugly19662h 58mApproved8.8\\xa0(809K)Rate11. Forrest Gump19942h 22mPG-138.8\\xa0(2.3M)Rate12. The Lord of the Rings: The Two Towers20022h 59mPG-138.8\\xa0(1.8M)Rate13. Fight Club19992h 19mR8.8\\xa0(2.3M)Rate14. Inception20102h 28mPG-138.8\\xa0(2.5M)Rate15. Star Wars: Episode V - The Empire Strikes Back19802h 4mPG8.7\\xa0(1.4M)Rate16. Dune: Part Two20242h 46mPG-138.8\\xa0(320K)Rate17. The Matrix19992h 16mR8.7\\xa0(2M)Rate18. Goodfellas19902h 25mR8.7\\xa0(1.3M)Rate19. One Flew Over the Cuckoo's Nest19752h 13mR8.7\\xa0(1.1M)Rate20. Se7en19952h 7mR8.6\\xa0(1.8M)Rate21. Interstellar20142h 49mPG-138.7\\xa0(2.1M)Rate22. It's a Wonderful Life19462h 10mPG8.6\\xa0(498K)Rate23. Seven Samurai19543h 27mNot Rated8.6\\xa0(366K)Rate24. The Silence of the Lambs19911h 58mR8.6\\xa0(1.5M)Rate25. Saving Private Ryan19982h 49mR8.6\\xa0(1.5M)Rate26. City of God20022h 10mR8.6\\xa0(799K)Rate27. Life Is Beautiful19971h 56mPG-138.6\\xa0(742K)Rate28. The Green Mile19993h 9mR8.6\\xa0(1.4M)Rate29. Terminator 2: Judgment Day19912h 17mR8.6\\xa0(1.2M)Rate30. Star Wars: Episode IV - A New Hope19772h 1mPG8.6\\xa0(1.4M)Rate31. Back to the Future19851h 56mPG8.5\\xa0(1.3M)Rate32. Spirited Away20012h 5mPG8.6\\xa0(846K)Rate33. The Pianist20022h 30mR8.5\\xa0(909K)Rate34. Parasite20192h 12mR8.5\\xa0(954K)Rate35. Psycho19601h 49mR8.5\\xa0(717K)Rate36. Spider-Man: Across the Spider-Verse20232h 20mPG8.6\\xa0(364K)Rate37. Gladiator20002h 35mR8.5\\xa0(1.6M)Rate38. The Lion King19941h 28mG8.5\\xa0(1.1M)Rate39. Léon: The Professional19941h 50mR8.5\\xa0(1.2M)Rate40. The Departed20062h 31mR8.5\\xa0(1.4M)Rate41. American History X19981h 59mR8.5\\xa0(1.2M)Rate42. Whiplash20141h 46mR8.5\\xa0(985K)Rate43. The Prestige20062h 10mPG-138.5\\xa0(1.4M)Rate44. Grave of the Fireflies19881h 29mNot Rated8.5\\xa0(309K)Rate45. Harakiri19622h 13mNot Rated8.6\\xa0(68K)Rate46. The Usual Suspects19951h 46mR8.5\\xa0(1.1M)Rate47. Casablanca19421h 42mPG8.5\\xa0(605K)Rate48. The Intouchables20111h 52mR8.5\\xa0(927K)Rate49. Cinema Paradiso19882h 54mPG8.5\\xa0(282K)Rate50. Modern Times19361h 27mG8.5\\xa0(259K)Rate51. Rear Window19541h 52mPG8.5\\xa0(521K)Rate52. Once Upon a Time in the West19682h 46mPG-138.5\\xa0(349K)Rate53. Alien19791h 57mR8.5\\xa0(948K)Rate54. City Lights19311h 27mG8.5\\xa0(196K)Rate55. Apocalypse Now19792h 27mR8.4\\xa0(709K)Rate56. Django Unchained20122h 45mR8.5\\xa0(1.7M)Rate57. Memento20001h 53mR8.4\\xa0(1.3M)Rate58. 12th Fail20232h\", metadata={'source': 'https://m.imdb.com/chart/top/', 'title': 'IMDb Top 250 Movies', 'description': 'As rated by regular IMDb voters.', 'language': 'en-US'}),\n",
              " Document(page_content=\"City Lights19311h 27mG8.5\\xa0(196K)Rate55. Apocalypse Now19792h 27mR8.4\\xa0(709K)Rate56. Django Unchained20122h 45mR8.5\\xa0(1.7M)Rate57. Memento20001h 53mR8.4\\xa0(1.3M)Rate58. 12th Fail20232h 27m9.0\\xa0(109K)Rate59. WALL·E20081h 38mG8.4\\xa0(1.2M)Rate60. Raiders of the Lost Ark19811h 55mPG8.4\\xa0(1M)Rate61. The Lives of Others20062h 17mR8.4\\xa0(409K)Rate62. Sunset Blvd.19501h 50mPassed8.4\\xa0(236K)Rate63. Paths of Glory19571h 28mApproved8.4\\xa0(212K)Rate64. Avengers: Infinity War20182h 29mPG-138.4\\xa0(1.2M)Rate65. Spider-Man: Into the Spider-Verse20181h 57mPG8.4\\xa0(668K)Rate66. Witness for the Prosecution19571h 56mApproved8.4\\xa0(137K)Rate67. The Shining19802h 26mR8.4\\xa0(1.1M)Rate68. The Great Dictator19402h 5mG8.4\\xa0(237K)Rate69. Aliens19862h 17mR8.4\\xa0(761K)Rate70. Inglourious Basterds20092h 33mR8.4\\xa0(1.6M)Rate71. The Dark Knight Rises20122h 44mPG-138.4\\xa0(1.8M)Rate72. Dr. Strangelove or: How I Learned to Stop Worrying and Love the Bomb19641h 35mPG8.4\\xa0(517K)Rate73. American Beauty19992h 2mR8.3\\xa0(1.2M)Rate74. Oldboy20032hR8.3\\xa0(634K)Rate75. Coco20171h 45mPG8.4\\xa0(588K)Rate76. Amadeus19842h 40mPG8.4\\xa0(427K)Rate77. Toy Story19951h 21mG8.3\\xa0(1.1M)Rate78. Das Boot19812h 29m8.4\\xa0(264K)Rate79. Braveheart19952h 58mR8.3\\xa0(1.1M)Rate80. Avengers: Endgame20193h 1mPG-138.4\\xa0(1.3M)Rate81. Joker20192h 2mR8.4\\xa0(1.5M)Rate82. Princess Mononoke19972h 14mPG-138.3\\xa0(433K)Rate83. Good Will Hunting19972h 6mR8.3\\xa0(1.1M)Rate84. Your Name.20161h 46m8.4\\xa0(318K)Rate85. Once Upon a Time in America19843h 49mR8.3\\xa0(377K)Rate86. High and Low19632h 23mNot Rated8.4\\xa0(53K)Rate87. 3 Idiots20092h 50mPG-138.4\\xa0(433K)Rate88. Singin' in the Rain19521h 43mG8.3\\xa0(260K)Rate89. Capernaum20182h 6mR8.4\\xa0(105K)Rate90. Requiem for a Dream20001h 42mUnrated8.3\\xa0(897K)Rate91. Come and See19852h 22mNot Rated8.4\\xa0(97K)Rate92. Oppenheimer20233hR8.3\\xa0(711K)Rate93. Toy Story 320101h 43mG8.3\\xa0(891K)Rate94. Star Wars: Episode VI - Return of the Jedi19832h 11mPG8.3\\xa0(1.1M)Rate95. Eternal Sunshine of the Spotless Mind20041h 48mR8.3\\xa0(1.1M)Rate96. The Hunt20121h 55mR8.3\\xa0(363K)Rate97. 2001: A Space Odyssey19682h 29mG8.3\\xa0(718K)Rate98. Reservoir Dogs19921h 39mR8.3\\xa0(1.1M)Rate99. Ikiru19522h 23mNot Rated8.3\\xa0(87K)Rate100. Lawrence of Arabia19623h 38mApproved8.3\\xa0(314K)Rate101. The Apartment19602h 5mApproved8.3\\xa0(196K)Rate102. North by Northwest19592h 16mApproved8.3\\xa0(345K)Rate103. Citizen Kane19411h 59mPG8.3\\xa0(465K)Rate104. Incendies20102h 11mR8.3\\xa0(199K)Rate105. Vertigo19582h 8mPG8.3\\xa0(426K)Rate106. M19311h 39mPassed8.3\\xa0(168K)Rate107. Double Indemnity19441h 47mPassed8.3\\xa0(167K)Rate108. Scarface19832h 50mR8.3\\xa0(914K)Rate109. Amélie20012h 2mR8.3\\xa0(793K)Rate110. Full Metal Jacket19871h 56mR8.3\\xa0(789K)Rate111. Heat19952h 50mR8.3\\xa0(718K)Rate112. A Clockwork Orange19712h 16mX8.3\\xa0(880K)Rate113. Up20091h 36mPG8.3\\xa0(1.1M)Rate114. To Kill a Mockingbird19622h 9mApproved8.3\\xa0(332K)Rate115. The Sting19732h 9mPG8.3\\xa0(279K)Rate116. A Separation20112h 3mPG-138.3\\xa0(258K)Rate117. Indiana Jones and the Last Crusade19892h 7mPG-138.2\\xa0(810K)Rate118. Die Hard19882h 12mR8.2\\xa0(943K)Rate119. Metropolis19272h 33mNot Rated8.3\\xa0(185K)Rate120. Like Stars on Earth20072h 42mPG8.3\\xa0(206K)Rate121. Hamilton20202h 40mPG-138.3\\xa0(113K)Rate122. Snatch20001h 42mR8.2\\xa0(909K)Rate123. L.A. Confidential19972h 18mR8.2\\xa0(617K)Rate124. 191720191h 59mR8.2\\xa0(673K)Rate125. Bicycle Thieves19481h 29mNot Rated8.3\\xa0(175K)Rate126. Taxi Driver19761h 54mR8.2\\xa0(918K)Rate127. Downfall20042h 36mR8.2\\xa0(375K)Rate128. Dangal20162h 41mNot Rated8.3\\xa0(210K)Rate129. For a Few Dollars More19652h 12mR8.2\\xa0(274K)Rate130. Batman Begins20052h 20mPG-138.2\\xa0(1.6M)Rate131. The Wolf of Wall Street20133hR8.2\\xa0(1.6M)Rate132. Some Like It Hot19592h 1mPassed8.2\\xa0(283K)Rate133. Green Book20182h 10mPG-138.2\\xa0(568K)Rate134. The Kid19211h 8mPassed8.2\\xa0(135K)Rate135. The Father20201h 37mPG-138.2\\xa0(192K)Rate136. Judgment at Nuremberg19612h 59mApproved8.3\\xa0(85K)Rate137. All About Eve19502h 18mPassed8.2\\xa0(139K)Rate138. The Truman Show19981h 43mPG8.2\\xa0(1.2M)Rate139. Top Gun: Maverick20222h 10mPG-138.2\\xa0(692K)Rate140. Shutter Island20102h 18mR8.2\\xa0(1.5M)Rate141. There Will Be\", metadata={'source': 'https://m.imdb.com/chart/top/', 'title': 'IMDb Top 250 Movies', 'description': 'As rated by regular IMDb voters.', 'language': 'en-US'})]"
            ]
          },
          "metadata": {},
          "execution_count": 35
        }
      ]
    },
    {
      "cell_type": "code",
      "source": [
        "prompt = ChatPromptTemplate.from_messages(\n",
        "    [\n",
        "        (\"system\", \"Answer the user's questions based on the below\\\n",
        " context: \\n\\n{context}\"),\n",
        "        MessagesPlaceholder(variable_name=\"chat_history\"),\n",
        "        (\"user\", \"{input}\")\n",
        "    ]\n",
        ")"
      ],
      "metadata": {
        "id": "xKBq180qzxcW"
      },
      "id": "xKBq180qzxcW",
      "execution_count": 36,
      "outputs": []
    },
    {
      "cell_type": "code",
      "source": [
        "from langchain.chains.combine_documents import create_stuff_documents_chain\n",
        "\n",
        "documents_chain = create_stuff_documents_chain(model, prompt)"
      ],
      "metadata": {
        "id": "ii42AGSa0L21"
      },
      "id": "ii42AGSa0L21",
      "execution_count": 37,
      "outputs": []
    },
    {
      "cell_type": "code",
      "source": [
        "from langchain.chains import create_retrieval_chain\n",
        "\n",
        "retriver_chain = create_retrieval_chain(\n",
        "    retriver_chain, documents_chain\n",
        ")"
      ],
      "metadata": {
        "id": "WHAtGOGu0Ny_"
      },
      "id": "WHAtGOGu0Ny_",
      "execution_count": 38,
      "outputs": []
    },
    {
      "cell_type": "code",
      "source": [
        "from langchain_core.messages import HumanMessage, AIMessage\n",
        "\n",
        "chat_history=[\n",
        "    HumanMessage(\n",
        "        content=\"Which movie has the highest IMDB score?\"\n",
        "    ),\n",
        "    AIMessage(content=\"The Shawshank Redemption\")\n",
        "]"
      ],
      "metadata": {
        "id": "-zxT7wFn0rNZ"
      },
      "id": "-zxT7wFn0rNZ",
      "execution_count": 39,
      "outputs": []
    },
    {
      "cell_type": "code",
      "source": [
        "response = retriver_chain.invoke(\n",
        "    {\n",
        "        \"chat_history\": chat_history,\n",
        "        \"input\": \"Tell me how\",\n",
        "    }\n",
        ")"
      ],
      "metadata": {
        "id": "Wb41IHXO1AsX"
      },
      "id": "Wb41IHXO1AsX",
      "execution_count": 40,
      "outputs": []
    },
    {
      "cell_type": "code",
      "source": [
        "response"
      ],
      "metadata": {
        "colab": {
          "base_uri": "https://localhost:8080/"
        },
        "id": "fPNge6wl1DAn",
        "outputId": "06716d27-cb71-4430-eee9-b1bcd914854f"
      },
      "id": "fPNge6wl1DAn",
      "execution_count": 41,
      "outputs": [
        {
          "output_type": "execute_result",
          "data": {
            "text/plain": [
              "{'chat_history': [HumanMessage(content='Which movie has the highest IMDB score?'),\n",
              "  AIMessage(content='The Shawshank Redemption')],\n",
              " 'input': 'Tell me how',\n",
              " 'context': [Document(page_content='IMDb Top 250 Movies', metadata={'source': 'https://m.imdb.com/chart/top/', 'title': 'IMDb Top 250 Movies', 'description': 'As rated by regular IMDb voters.', 'language': 'en-US'}),\n",
              "  Document(page_content=\"Hotel Rwanda20042h 1mPG-138.1\\xa0(372K)Rate219. Platoon19862hR8.1\\xa0(439K)Rate220. The Terminator19841h 47mR8.1\\xa0(922K)Rate221. The Passion of Joan of Arc19281h 54mPassed8.1\\xa0(61K)Rate222. Before Sunset20041h 20mR8.1\\xa0(287K)Rate223. La haine19951h 38mNot Rated8.1\\xa0(196K)Rate224. The Best Years of Our Lives19462h 50mApproved8.1\\xa0(70K)Rate225. Pirates of the Caribbean: The Curse of the Black Pearl20032h 23mPG-138.1\\xa0(1.2M)Rate226. The Exorcist19732h 2mR8.1\\xa0(454K)Rate227. Rush20132h 3mR8.1\\xa0(512K)Rate228. Jai Bhim20212h 44mApproved8.7\\xa0(217K)Rate229. Network19762h 1mR8.1\\xa0(170K)Rate230. Stand by Me19861h 29mR8.1\\xa0(441K)Rate231. The Wizard of Oz19391h 42mG8.1\\xa0(428K)Rate232. The Incredibles20041h 55mPG8.0\\xa0(807K)Rate233. Hachi: A Dog's Tale20091h 33mG8.1\\xa0(311K)Rate234. The Handmaiden20162h 25mNot Rated8.1\\xa0(172K)Rate235. Into the Wild20072h 28mR8.1\\xa0(657K)Rate236. My Father and My Son20051h 52mNot Rated8.2\\xa0(92K)Rate237. The Sound of Music19652h 52mG8.1\\xa0(260K)Rate238. The Battle of Algiers19662h 1mNot Rated8.1\\xa0(66K)Rate239. The Grapes of Wrath19402h 9mPassed8.1\\xa0(100K)Rate240. To Be or Not to Be19421h 39mPassed8.1\\xa0(43K)Rate241. Groundhog Day19931h 41mPG8.0\\xa0(684K)Rate242. Amores Perros20002h 34mR8.1\\xa0(253K)Rate243. Rebecca19402h 10mApproved8.1\\xa0(146K)Rate244. Cool Hand Luke19672h 7mGP8.1\\xa0(188K)Rate245. The Iron Giant19991h 26mPG8.1\\xa0(227K)Rate246. The Help20112h 26mPG-138.1\\xa0(492K)Rate247. It Happened One Night19341h 45mPassed8.1\\xa0(112K)Rate248. Dances with Wolves19903h 1mPG-138.0\\xa0(290K)Rate249. Aladdin19921h 30mG8.0\\xa0(465K)Rate250. Andhadhun20182h 19mNot Rated8.2\\xa0(102K)RateThe Top Rated Movie list only includes feature films.Shorts, TV movies, and documentaries are not includedThe list is ranked by a formula which includes the number of ratings each movie received from users, and value of ratings received from regular usersTo be included on the list, a movie must receive ratings from at least 25000 usersLearn more about how list ranking is determined.More to exploreChartsTop Box Office (US)From the past weekendMost Popular MoviesAs determined by IMDb usersTop Rated English MoviesEnglish-language movies as rated by IMDb usersMost Popular TV ShowsAs determined by IMDb usersTop 250 TV ShowsTop 250 as rated by IMDb UsersLowest Rated MoviesBottom 100 as voted by IMDb usersMost Popular CelebsAs determined by IMDb usersTop Rated Movies by GenreRecently viewedYou have no recently viewed pagesGet the IMDb appSign in for more accessSign in for more accessFollow IMDb on socialGet the IMDb appFor Android and iOSHelpSite IndexIMDbProBox Office MojoLicense IMDb DataPress RoomAdvertisingJobsConditions of UsePrivacy PolicyYour Ads Privacy ChoicesIMDb, an Amazon company© 1990-2024 by IMDb.com, Inc.Back to top\", metadata={'source': 'https://m.imdb.com/chart/top/', 'title': 'IMDb Top 250 Movies', 'description': 'As rated by regular IMDb voters.', 'language': 'en-US'}),\n",
              "  Document(page_content=\"MenuMoviesRelease CalendarTop 250 MoviesMost Popular MoviesBrowse Movies by GenreTop Box OfficeShowtimes & TicketsMovie NewsIndia Movie SpotlightTV ShowsWhat's on TV & StreamingTop 250 TV ShowsMost Popular TV ShowsBrowse TV Shows by GenreTV NewsWatchWhat to WatchLatest TrailersIMDb OriginalsIMDb PicksIMDb SpotlightIMDb PodcastsAwards & EventsOscarsSXSW Film FestivalCannes Film FestivalSTARmeter AwardsAwards CentralFestival CentralAll EventsCelebsBorn TodayMost Popular CelebsCelebrity NewsCommunityHelp CenterContributor ZonePollsFor Industry ProfessionalsLanguageEnglish (United States)LanguageFully supportedEnglish (United States)Partially supportedFrançais (Canada)Français (France)Deutsch (Deutschland)हिंदी (भारत)Italiano (Italia)Português (Brasil)Español (España)Español (México)AllAllTitlesTV EpisodesCelebsCompaniesKeywordsAdvanced SearchWatchlistSign InSign InNew Customer?\\xa0Create accountENFully supportedEnglish (United States)Partially supportedFrançais (Canada)Français (France)Deutsch (Deutschland)हिंदी (भारत)Italiano (Italia)Português (Brasil)Español (España)Español (México)Use appIMDb ChartsShareIMDb Top 250 MoviesAs rated by regular IMDb voters.250 TitlesSort byRankingRankingIMDb ratingRelease dateNumber of ratingsAlphabeticalPopularityRuntime1. The Shawshank Redemption19942h 22mR9.3\\xa0(2.9M)Rate2. The Godfather19722h 55mR9.2\\xa0(2M)Rate3. The Dark Knight20082h 32mPG-139.0\\xa0(2.9M)Rate4. The Godfather Part II19743h 22mR9.0\\xa0(1.4M)Rate5. 12 Angry Men19571h 36mApproved9.0\\xa0(862K)Rate6. Schindler's List19933h 15mR9.0\\xa0(1.4M)Rate7. The Lord of the Rings: The Return of the King20033h 21mPG-139.0\\xa0(2M)Rate8. Pulp Fiction19942h 34mR8.9\\xa0(2.2M)Rate9. The Lord of the Rings: The Fellowship of the Ring20012h 58mPG-138.9\\xa0(2M)Rate10. The Good, the Bad and the Ugly19662h 58mApproved8.8\\xa0(809K)Rate11. Forrest Gump19942h 22mPG-138.8\\xa0(2.3M)Rate12. The Lord of the Rings: The Two Towers20022h 59mPG-138.8\\xa0(1.8M)Rate13. Fight Club19992h 19mR8.8\\xa0(2.3M)Rate14. Inception20102h 28mPG-138.8\\xa0(2.5M)Rate15. Star Wars: Episode V - The Empire Strikes Back19802h 4mPG8.7\\xa0(1.4M)Rate16. Dune: Part Two20242h 46mPG-138.8\\xa0(320K)Rate17. The Matrix19992h 16mR8.7\\xa0(2M)Rate18. Goodfellas19902h 25mR8.7\\xa0(1.3M)Rate19. One Flew Over the Cuckoo's Nest19752h 13mR8.7\\xa0(1.1M)Rate20. Se7en19952h 7mR8.6\\xa0(1.8M)Rate21. Interstellar20142h 49mPG-138.7\\xa0(2.1M)Rate22. It's a Wonderful Life19462h 10mPG8.6\\xa0(498K)Rate23. Seven Samurai19543h 27mNot Rated8.6\\xa0(366K)Rate24. The Silence of the Lambs19911h 58mR8.6\\xa0(1.5M)Rate25. Saving Private Ryan19982h 49mR8.6\\xa0(1.5M)Rate26. City of God20022h 10mR8.6\\xa0(799K)Rate27. Life Is Beautiful19971h 56mPG-138.6\\xa0(742K)Rate28. The Green Mile19993h 9mR8.6\\xa0(1.4M)Rate29. Terminator 2: Judgment Day19912h 17mR8.6\\xa0(1.2M)Rate30. Star Wars: Episode IV - A New Hope19772h 1mPG8.6\\xa0(1.4M)Rate31. Back to the Future19851h 56mPG8.5\\xa0(1.3M)Rate32. Spirited Away20012h 5mPG8.6\\xa0(846K)Rate33. The Pianist20022h 30mR8.5\\xa0(909K)Rate34. Parasite20192h 12mR8.5\\xa0(954K)Rate35. Psycho19601h 49mR8.5\\xa0(717K)Rate36. Spider-Man: Across the Spider-Verse20232h 20mPG8.6\\xa0(364K)Rate37. Gladiator20002h 35mR8.5\\xa0(1.6M)Rate38. The Lion King19941h 28mG8.5\\xa0(1.1M)Rate39. Léon: The Professional19941h 50mR8.5\\xa0(1.2M)Rate40. The Departed20062h 31mR8.5\\xa0(1.4M)Rate41. American History X19981h 59mR8.5\\xa0(1.2M)Rate42. Whiplash20141h 46mR8.5\\xa0(985K)Rate43. The Prestige20062h 10mPG-138.5\\xa0(1.4M)Rate44. Grave of the Fireflies19881h 29mNot Rated8.5\\xa0(309K)Rate45. Harakiri19622h 13mNot Rated8.6\\xa0(68K)Rate46. The Usual Suspects19951h 46mR8.5\\xa0(1.1M)Rate47. Casablanca19421h 42mPG8.5\\xa0(605K)Rate48. The Intouchables20111h 52mR8.5\\xa0(927K)Rate49. Cinema Paradiso19882h 54mPG8.5\\xa0(282K)Rate50. Modern Times19361h 27mG8.5\\xa0(259K)Rate51. Rear Window19541h 52mPG8.5\\xa0(521K)Rate52. Once Upon a Time in the West19682h 46mPG-138.5\\xa0(349K)Rate53. Alien19791h 57mR8.5\\xa0(948K)Rate54. City Lights19311h 27mG8.5\\xa0(196K)Rate55. Apocalypse Now19792h 27mR8.4\\xa0(709K)Rate56. Django Unchained20122h 45mR8.5\\xa0(1.7M)Rate57. Memento20001h 53mR8.4\\xa0(1.3M)Rate58. 12th Fail20232h\", metadata={'source': 'https://m.imdb.com/chart/top/', 'title': 'IMDb Top 250 Movies', 'description': 'As rated by regular IMDb voters.', 'language': 'en-US'}),\n",
              "  Document(page_content=\"City Lights19311h 27mG8.5\\xa0(196K)Rate55. Apocalypse Now19792h 27mR8.4\\xa0(709K)Rate56. Django Unchained20122h 45mR8.5\\xa0(1.7M)Rate57. Memento20001h 53mR8.4\\xa0(1.3M)Rate58. 12th Fail20232h 27m9.0\\xa0(109K)Rate59. WALL·E20081h 38mG8.4\\xa0(1.2M)Rate60. Raiders of the Lost Ark19811h 55mPG8.4\\xa0(1M)Rate61. The Lives of Others20062h 17mR8.4\\xa0(409K)Rate62. Sunset Blvd.19501h 50mPassed8.4\\xa0(236K)Rate63. Paths of Glory19571h 28mApproved8.4\\xa0(212K)Rate64. Avengers: Infinity War20182h 29mPG-138.4\\xa0(1.2M)Rate65. Spider-Man: Into the Spider-Verse20181h 57mPG8.4\\xa0(668K)Rate66. Witness for the Prosecution19571h 56mApproved8.4\\xa0(137K)Rate67. The Shining19802h 26mR8.4\\xa0(1.1M)Rate68. The Great Dictator19402h 5mG8.4\\xa0(237K)Rate69. Aliens19862h 17mR8.4\\xa0(761K)Rate70. Inglourious Basterds20092h 33mR8.4\\xa0(1.6M)Rate71. The Dark Knight Rises20122h 44mPG-138.4\\xa0(1.8M)Rate72. Dr. Strangelove or: How I Learned to Stop Worrying and Love the Bomb19641h 35mPG8.4\\xa0(517K)Rate73. American Beauty19992h 2mR8.3\\xa0(1.2M)Rate74. Oldboy20032hR8.3\\xa0(634K)Rate75. Coco20171h 45mPG8.4\\xa0(588K)Rate76. Amadeus19842h 40mPG8.4\\xa0(427K)Rate77. Toy Story19951h 21mG8.3\\xa0(1.1M)Rate78. Das Boot19812h 29m8.4\\xa0(264K)Rate79. Braveheart19952h 58mR8.3\\xa0(1.1M)Rate80. Avengers: Endgame20193h 1mPG-138.4\\xa0(1.3M)Rate81. Joker20192h 2mR8.4\\xa0(1.5M)Rate82. Princess Mononoke19972h 14mPG-138.3\\xa0(433K)Rate83. Good Will Hunting19972h 6mR8.3\\xa0(1.1M)Rate84. Your Name.20161h 46m8.4\\xa0(318K)Rate85. Once Upon a Time in America19843h 49mR8.3\\xa0(377K)Rate86. High and Low19632h 23mNot Rated8.4\\xa0(53K)Rate87. 3 Idiots20092h 50mPG-138.4\\xa0(433K)Rate88. Singin' in the Rain19521h 43mG8.3\\xa0(260K)Rate89. Capernaum20182h 6mR8.4\\xa0(105K)Rate90. Requiem for a Dream20001h 42mUnrated8.3\\xa0(897K)Rate91. Come and See19852h 22mNot Rated8.4\\xa0(97K)Rate92. Oppenheimer20233hR8.3\\xa0(711K)Rate93. Toy Story 320101h 43mG8.3\\xa0(891K)Rate94. Star Wars: Episode VI - Return of the Jedi19832h 11mPG8.3\\xa0(1.1M)Rate95. Eternal Sunshine of the Spotless Mind20041h 48mR8.3\\xa0(1.1M)Rate96. The Hunt20121h 55mR8.3\\xa0(363K)Rate97. 2001: A Space Odyssey19682h 29mG8.3\\xa0(718K)Rate98. Reservoir Dogs19921h 39mR8.3\\xa0(1.1M)Rate99. Ikiru19522h 23mNot Rated8.3\\xa0(87K)Rate100. Lawrence of Arabia19623h 38mApproved8.3\\xa0(314K)Rate101. The Apartment19602h 5mApproved8.3\\xa0(196K)Rate102. North by Northwest19592h 16mApproved8.3\\xa0(345K)Rate103. Citizen Kane19411h 59mPG8.3\\xa0(465K)Rate104. Incendies20102h 11mR8.3\\xa0(199K)Rate105. Vertigo19582h 8mPG8.3\\xa0(426K)Rate106. M19311h 39mPassed8.3\\xa0(168K)Rate107. Double Indemnity19441h 47mPassed8.3\\xa0(167K)Rate108. Scarface19832h 50mR8.3\\xa0(914K)Rate109. Amélie20012h 2mR8.3\\xa0(793K)Rate110. Full Metal Jacket19871h 56mR8.3\\xa0(789K)Rate111. Heat19952h 50mR8.3\\xa0(718K)Rate112. A Clockwork Orange19712h 16mX8.3\\xa0(880K)Rate113. Up20091h 36mPG8.3\\xa0(1.1M)Rate114. To Kill a Mockingbird19622h 9mApproved8.3\\xa0(332K)Rate115. The Sting19732h 9mPG8.3\\xa0(279K)Rate116. A Separation20112h 3mPG-138.3\\xa0(258K)Rate117. Indiana Jones and the Last Crusade19892h 7mPG-138.2\\xa0(810K)Rate118. Die Hard19882h 12mR8.2\\xa0(943K)Rate119. Metropolis19272h 33mNot Rated8.3\\xa0(185K)Rate120. Like Stars on Earth20072h 42mPG8.3\\xa0(206K)Rate121. Hamilton20202h 40mPG-138.3\\xa0(113K)Rate122. Snatch20001h 42mR8.2\\xa0(909K)Rate123. L.A. Confidential19972h 18mR8.2\\xa0(617K)Rate124. 191720191h 59mR8.2\\xa0(673K)Rate125. Bicycle Thieves19481h 29mNot Rated8.3\\xa0(175K)Rate126. Taxi Driver19761h 54mR8.2\\xa0(918K)Rate127. Downfall20042h 36mR8.2\\xa0(375K)Rate128. Dangal20162h 41mNot Rated8.3\\xa0(210K)Rate129. For a Few Dollars More19652h 12mR8.2\\xa0(274K)Rate130. Batman Begins20052h 20mPG-138.2\\xa0(1.6M)Rate131. The Wolf of Wall Street20133hR8.2\\xa0(1.6M)Rate132. Some Like It Hot19592h 1mPassed8.2\\xa0(283K)Rate133. Green Book20182h 10mPG-138.2\\xa0(568K)Rate134. The Kid19211h 8mPassed8.2\\xa0(135K)Rate135. The Father20201h 37mPG-138.2\\xa0(192K)Rate136. Judgment at Nuremberg19612h 59mApproved8.3\\xa0(85K)Rate137. All About Eve19502h 18mPassed8.2\\xa0(139K)Rate138. The Truman Show19981h 43mPG8.2\\xa0(1.2M)Rate139. Top Gun: Maverick20222h 10mPG-138.2\\xa0(692K)Rate140. Shutter Island20102h 18mR8.2\\xa0(1.5M)Rate141. There Will Be\", metadata={'source': 'https://m.imdb.com/chart/top/', 'title': 'IMDb Top 250 Movies', 'description': 'As rated by regular IMDb voters.', 'language': 'en-US'})],\n",
              " 'answer': 'The movie \"The Shawshank Redemption\" has the highest IMDb score of 9.3. It is ranked at number 1 on the IMDb Top 250 Movies list. This score is based on ratings from regular IMDb voters and the number of ratings the movie has received from users. It is a highly acclaimed film that has resonated with audiences around the world, leading to its top ranking on the list.'}"
            ]
          },
          "metadata": {},
          "execution_count": 41
        }
      ]
    }
  ],
  "metadata": {
    "kernelspec": {
      "display_name": "Python 3 (ipykernel)",
      "language": "python",
      "name": "python3"
    },
    "language_info": {
      "codemirror_mode": {
        "name": "ipython",
        "version": 3
      },
      "file_extension": ".py",
      "mimetype": "text/x-python",
      "name": "python",
      "nbconvert_exporter": "python",
      "pygments_lexer": "ipython3",
      "version": "3.10.12"
    },
    "colab": {
      "provenance": [],
      "include_colab_link": true
    }
  },
  "nbformat": 4,
  "nbformat_minor": 5
}
